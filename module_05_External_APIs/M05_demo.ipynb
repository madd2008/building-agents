{
 "cells": [
  {
   "cell_type": "markdown",
   "id": "264e6c14",
   "metadata": {},
   "source": [
    "# Module 05: External APIs\n",
    "This notebook demonstrates how to call real APIs."
   ]
  },
  {
   "cell_type": "markdown",
   "id": "b6e5ca62",
   "metadata": {},
   "source": [
    "## What we'll learn:\n",
    "- GET\n",
    "- POST\n",
    "- PUT\n",
    "- API Key\n",
    "- Status Codes"
   ]
  },
  {
   "cell_type": "markdown",
   "id": "dcecd715",
   "metadata": {},
   "source": [
    "### Setup"
   ]
  },
  {
   "cell_type": "code",
   "execution_count": 1,
   "id": "2aafeb1d",
   "metadata": {},
   "outputs": [],
   "source": [
    "import requests"
   ]
  },
  {
   "cell_type": "markdown",
   "id": "bdeee6bb",
   "metadata": {},
   "source": [
    "## GET REQUEST"
   ]
  },
  {
   "cell_type": "markdown",
   "id": "27fd4cb2",
   "metadata": {},
   "source": [
    "**Game of Thrones**"
   ]
  },
  {
   "cell_type": "code",
   "execution_count": null,
   "id": "20478fa2",
   "metadata": {},
   "outputs": [],
   "source": [
    "URL = \"https://api.gameofthronesquotes.xyz/v1/random\"\n",
    "\n",
    "response = requests.get(url=URL)"
   ]
  },
  {
   "cell_type": "code",
   "execution_count": 3,
   "id": "6ac2784f",
   "metadata": {},
   "outputs": [
    {
     "data": {
      "text/plain": [
       "<Response [200]>"
      ]
     },
     "execution_count": 3,
     "metadata": {},
     "output_type": "execute_result"
    }
   ],
   "source": [
    "response"
   ]
  },
  {
   "cell_type": "code",
   "execution_count": 4,
   "id": "0d84a1ac",
   "metadata": {},
   "outputs": [
    {
     "data": {
      "text/plain": [
       "{'sentence': 'I have a tender spot in my heart for cripples, bastards and broken things.',\n",
       " 'character': {'name': 'Tyrion Lannister',\n",
       "  'slug': 'tyrion',\n",
       "  'house': {'name': 'House Lannister of Casterly Rock', 'slug': 'lannister'}}}"
      ]
     },
     "execution_count": 4,
     "metadata": {},
     "output_type": "execute_result"
    }
   ],
   "source": [
    "response.json()"
   ]
  },
  {
   "cell_type": "markdown",
   "id": "d1f21aa0",
   "metadata": {},
   "source": [
    "**Open Weather**"
   ]
  },
  {
   "cell_type": "code",
   "execution_count": 25,
   "id": "934594a0",
   "metadata": {},
   "outputs": [],
   "source": [
    "BASE_URL = \"https://api.openweathermap.org/data/2.5/weather\"\n",
    "API_KEY = \"44860a8b6d72fe887c97bc1c6b19acf4\"\n",
    "CITY = \"Sao Paulo\"\n",
    "\n",
    "URL = f\"{BASE_URL}?appid={API_KEY}&q={CITY}&units=metric\"\n",
    "\n",
    "response = requests.get(\n",
    "    url=URL,\n",
    ")"
   ]
  },
  {
   "cell_type": "code",
   "execution_count": 26,
   "id": "e77c52f6",
   "metadata": {},
   "outputs": [
    {
     "data": {
      "text/plain": [
       "<Response [200]>"
      ]
     },
     "execution_count": 26,
     "metadata": {},
     "output_type": "execute_result"
    }
   ],
   "source": [
    "response"
   ]
  },
  {
   "cell_type": "code",
   "execution_count": 27,
   "id": "78e96794",
   "metadata": {},
   "outputs": [
    {
     "data": {
      "text/plain": [
       "{'coord': {'lon': -46.6361, 'lat': -23.5475},\n",
       " 'weather': [{'id': 800,\n",
       "   'main': 'Clear',\n",
       "   'description': 'clear sky',\n",
       "   'icon': '01d'}],\n",
       " 'base': 'stations',\n",
       " 'main': {'temp': 22.14,\n",
       "  'feels_like': 22.32,\n",
       "  'temp_min': 19.75,\n",
       "  'temp_max': 24.69,\n",
       "  'pressure': 1023,\n",
       "  'humidity': 73,\n",
       "  'sea_level': 1023,\n",
       "  'grnd_level': 932},\n",
       " 'visibility': 10000,\n",
       " 'wind': {'speed': 2.57, 'deg': 30},\n",
       " 'clouds': {'all': 0},\n",
       " 'dt': 1748269244,\n",
       " 'sys': {'type': 1,\n",
       "  'id': 8394,\n",
       "  'country': 'BR',\n",
       "  'sunrise': 1748252324,\n",
       "  'sunset': 1748291330},\n",
       " 'timezone': -10800,\n",
       " 'id': 3448439,\n",
       " 'name': 'São Paulo',\n",
       " 'cod': 200}"
      ]
     },
     "execution_count": 27,
     "metadata": {},
     "output_type": "execute_result"
    }
   ],
   "source": [
    "response.json()"
   ]
  },
  {
   "cell_type": "markdown",
   "id": "b77db1b7",
   "metadata": {},
   "source": [
    "**Exchange Rate API**"
   ]
  },
  {
   "cell_type": "code",
   "execution_count": 37,
   "id": "bbc23ed2",
   "metadata": {},
   "outputs": [],
   "source": [
    "BASE_URL = \"https://v6.exchangerate-api.com/v6\"\n",
    "API_KEY = \"128a5d8773053b3bb303151e\"\n",
    "CURRENCY = \"USD\"\n",
    "\n",
    "URL = f\"{BASE_URL}/{API_KEY}/latest/{CURRENCY}\"\n",
    "\n",
    "response = requests.get(\n",
    "    url=URL,\n",
    ")"
   ]
  },
  {
   "cell_type": "code",
   "execution_count": 38,
   "id": "32a3c8f8",
   "metadata": {},
   "outputs": [
    {
     "data": {
      "text/plain": [
       "<Response [200]>"
      ]
     },
     "execution_count": 38,
     "metadata": {},
     "output_type": "execute_result"
    }
   ],
   "source": [
    "response"
   ]
  },
  {
   "cell_type": "code",
   "execution_count": 39,
   "id": "81f52056",
   "metadata": {},
   "outputs": [
    {
     "data": {
      "text/plain": [
       "5.6622"
      ]
     },
     "execution_count": 39,
     "metadata": {},
     "output_type": "execute_result"
    }
   ],
   "source": [
    "response.json()[\"conversion_rates\"][\"BRL\"]"
   ]
  },
  {
   "cell_type": "markdown",
   "id": "8b9c9987",
   "metadata": {},
   "source": [
    "## POST & PUT"
   ]
  },
  {
   "cell_type": "markdown",
   "id": "b2bd2b16",
   "metadata": {},
   "source": [
    "**JSON PLACEHOLDER**"
   ]
  },
  {
   "cell_type": "markdown",
   "id": "85c80f71",
   "metadata": {},
   "source": [
    "Creating a new resource"
   ]
  },
  {
   "cell_type": "code",
   "execution_count": 48,
   "id": "8e481a7c",
   "metadata": {},
   "outputs": [],
   "source": [
    "URL = \"https://jsonplaceholder.typicode.com/posts\"\n",
    "DATA = {\n",
    "    \"title\": \"Building Agents\",\n",
    "    \"author\": \"Henrique Santana\",\n",
    "}\n",
    "\n",
    "response = requests.post(\n",
    "    url=URL,\n",
    "    data=DATA,\n",
    ")"
   ]
  },
  {
   "cell_type": "code",
   "execution_count": 49,
   "id": "e990132d",
   "metadata": {},
   "outputs": [
    {
     "data": {
      "text/plain": [
       "<Response [201]>"
      ]
     },
     "execution_count": 49,
     "metadata": {},
     "output_type": "execute_result"
    }
   ],
   "source": [
    "response"
   ]
  },
  {
   "cell_type": "code",
   "execution_count": 50,
   "id": "005b8e9a",
   "metadata": {},
   "outputs": [
    {
     "data": {
      "text/plain": [
       "{'title': 'Building Agents', 'author': 'Henrique Santana', 'id': 101}"
      ]
     },
     "execution_count": 50,
     "metadata": {},
     "output_type": "execute_result"
    }
   ],
   "source": [
    "response.json()"
   ]
  },
  {
   "cell_type": "markdown",
   "id": "4bfb0386",
   "metadata": {},
   "source": [
    "Getting Resource"
   ]
  },
  {
   "cell_type": "code",
   "execution_count": 51,
   "id": "81e40bd3",
   "metadata": {},
   "outputs": [],
   "source": [
    "URL = \"https://jsonplaceholder.typicode.com/posts/1\"\n",
    "\n",
    "response = requests.get(\n",
    "    url=URL,\n",
    ")"
   ]
  },
  {
   "cell_type": "code",
   "execution_count": 52,
   "id": "380be995",
   "metadata": {},
   "outputs": [
    {
     "data": {
      "text/plain": [
       "<Response [200]>"
      ]
     },
     "execution_count": 52,
     "metadata": {},
     "output_type": "execute_result"
    }
   ],
   "source": [
    "response"
   ]
  },
  {
   "cell_type": "code",
   "execution_count": 53,
   "id": "b978a916",
   "metadata": {},
   "outputs": [
    {
     "data": {
      "text/plain": [
       "{'userId': 1,\n",
       " 'id': 1,\n",
       " 'title': 'sunt aut facere repellat provident occaecati excepturi optio reprehenderit',\n",
       " 'body': 'quia et suscipit\\nsuscipit recusandae consequuntur expedita et cum\\nreprehenderit molestiae ut ut quas totam\\nnostrum rerum est autem sunt rem eveniet architecto'}"
      ]
     },
     "execution_count": 53,
     "metadata": {},
     "output_type": "execute_result"
    }
   ],
   "source": [
    "response.json()"
   ]
  },
  {
   "cell_type": "markdown",
   "id": "c4dbe3da",
   "metadata": {},
   "source": [
    "Updating that resource"
   ]
  },
  {
   "cell_type": "code",
   "execution_count": 54,
   "id": "8961dff0",
   "metadata": {},
   "outputs": [],
   "source": [
    "URL = \"https://jsonplaceholder.typicode.com/posts/1\"\n",
    "DATA = {\n",
    "    \"title\": \"New title\",\n",
    "    \"body\": \"New body\",\n",
    "}\n",
    "\n",
    "response = requests.put(\n",
    "    url=URL,\n",
    "    data=DATA,\n",
    ")"
   ]
  },
  {
   "cell_type": "code",
   "execution_count": 55,
   "id": "c84a4ef9",
   "metadata": {},
   "outputs": [
    {
     "data": {
      "text/plain": [
       "<Response [200]>"
      ]
     },
     "execution_count": 55,
     "metadata": {},
     "output_type": "execute_result"
    }
   ],
   "source": [
    "response"
   ]
  },
  {
   "cell_type": "code",
   "execution_count": 56,
   "id": "dbe31acb",
   "metadata": {},
   "outputs": [
    {
     "data": {
      "text/plain": [
       "{'title': 'New title', 'body': 'New body', 'id': 1}"
      ]
     },
     "execution_count": 56,
     "metadata": {},
     "output_type": "execute_result"
    }
   ],
   "source": [
    "response.json()"
   ]
  },
  {
   "cell_type": "code",
   "execution_count": null,
   "id": "ccbd8900",
   "metadata": {},
   "outputs": [],
   "source": []
  }
 ],
 "metadata": {
  "kernelspec": {
   "display_name": ".venv",
   "language": "python",
   "name": "python3"
  },
  "language_info": {
   "codemirror_mode": {
    "name": "ipython",
    "version": 3
   },
   "file_extension": ".py",
   "mimetype": "text/x-python",
   "name": "python",
   "nbconvert_exporter": "python",
   "pygments_lexer": "ipython3",
   "version": "3.11.10"
  }
 },
 "nbformat": 4,
 "nbformat_minor": 5
}
