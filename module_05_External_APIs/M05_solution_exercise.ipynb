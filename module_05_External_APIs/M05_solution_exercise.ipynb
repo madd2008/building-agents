{
 "cells": [
  {
   "cell_type": "markdown",
   "id": "e3778898",
   "metadata": {},
   "source": [
    "# [SOLUTION] Exercise - Create an Agent with external API call enabled\n",
    "\n",
    "In this exercise, you'll build an agent that can interact with external APIs to gather real-time data\n",
    "and provide responses based on that information. You'll combine concepts from state management and\n",
    "memory while adding the ability to make external API calls safely and effectively.\n"
   ]
  },
  {
   "cell_type": "markdown",
   "id": "12e57bd8",
   "metadata": {},
   "source": [
    "## Challenge\n",
    "\n",
    "Your task is to create an agent that can make External API Calls:\n",
    "\n",
    "- Implement tools that interact with real APIs\n",
    "- Handle API responses and errors gracefully\n",
    "- Use environment variables for API keys\n",
    "- Process and format API data for user consumption"
   ]
  },
  {
   "cell_type": "markdown",
   "id": "9fa44fc7",
   "metadata": {},
   "source": [
    "## Setup\n",
    "First, let's import the necessary libraries:"
   ]
  },
  {
   "cell_type": "code",
   "execution_count": null,
   "id": "08286c75",
   "metadata": {},
   "outputs": [],
   "source": [
    "import os\n",
    "from typing import List\n",
    "import requests\n",
    "from dotenv import load_dotenv\n",
    "\n",
    "from lib.agents import Agent\n",
    "from lib.messages import BaseMessage\n",
    "from lib.tooling import tool"
   ]
  },
  {
   "cell_type": "code",
   "execution_count": 2,
   "id": "4002bf4c",
   "metadata": {},
   "outputs": [
    {
     "data": {
      "text/plain": [
       "True"
      ]
     },
     "execution_count": 2,
     "metadata": {},
     "output_type": "execute_result"
    }
   ],
   "source": [
    "load_dotenv()"
   ]
  },
  {
   "cell_type": "markdown",
   "id": "b04a0de2",
   "metadata": {},
   "source": [
    "## Define API tools"
   ]
  },
  {
   "cell_type": "markdown",
   "id": "f2e58ef2",
   "metadata": {},
   "source": [
    "Feel free to use any open service available through APIs.\n",
    "\n",
    "Here are a few examples. You can follow the instructions given.\n",
    "- https://jsonplaceholder.typicode.com/guide/\n",
    "- https://www.exchangerate-api.com/\n",
    "- https://openweathermap.org/\n",
    "\n",
    "Or you can find one you're interested in here.\n",
    "- https://github.com/public-apis/public-apis"
   ]
  },
  {
   "cell_type": "code",
   "execution_count": 3,
   "id": "10a41cb2",
   "metadata": {},
   "outputs": [],
   "source": [
    "@tool\n",
    "def get_weather(city: str) -> dict:\n",
    "    \"\"\"\n",
    "    Get current weather for a city using OpenWeather API\n",
    "    args:\n",
    "        city (str): Name of the city to get weather for\n",
    "    \"\"\"\n",
    "    API_KEY = os.getenv(\"OPENWEATHER_API_KEY\")\n",
    "    BASE_URL = \"https://api.openweathermap.org/data/2.5/weather\"\n",
    "    \n",
    "    params = {\n",
    "        \"q\": city,\n",
    "        \"appid\": API_KEY,\n",
    "        \"units\": \"metric\"\n",
    "    }\n",
    "    \n",
    "    response = requests.get(BASE_URL, params=params)\n",
    "    response.raise_for_status()\n",
    "    return response.json()"
   ]
  },
  {
   "cell_type": "code",
   "execution_count": 4,
   "id": "a314d4b7",
   "metadata": {},
   "outputs": [],
   "source": [
    "@tool\n",
    "def get_exchange_rate(from_currency: str = \"USD\") -> dict:\n",
    "    \"\"\"\n",
    "    Get latest exchange rates from a base currency\n",
    "    args:\n",
    "        from_currency (str): Base currency code (default: USD)\n",
    "    \"\"\"\n",
    "    API_KEY = os.getenv(\"EXCHANGERATE_API_KEY\")\n",
    "    BASE_URL = \"https://v6.exchangerate-api.com/v6\"\n",
    "    \n",
    "    url = f\"{BASE_URL}/{API_KEY}/latest/{from_currency}\"\n",
    "    response = requests.get(url)\n",
    "    response.raise_for_status()\n",
    "    return response.json()"
   ]
  },
  {
   "cell_type": "code",
   "execution_count": 5,
   "id": "15d78c55",
   "metadata": {},
   "outputs": [],
   "source": [
    "@tool\n",
    "def get_got_quote() -> dict:\n",
    "    \"\"\"Get a random Game of Thrones quote\"\"\"\n",
    "    URL = \"https://api.gameofthronesquotes.xyz/v1/random\"\n",
    "    response = requests.get(URL)\n",
    "    response.raise_for_status()\n",
    "    return response.json()"
   ]
  },
  {
   "cell_type": "code",
   "execution_count": 6,
   "id": "9f67b873",
   "metadata": {},
   "outputs": [],
   "source": [
    "tools = [get_weather, get_exchange_rate, get_got_quote]"
   ]
  },
  {
   "cell_type": "code",
   "execution_count": 7,
   "id": "c7ff665d",
   "metadata": {},
   "outputs": [],
   "source": [
    "agent = Agent(\n",
    "    model_name=\"gpt-4o-mini\",\n",
    "    instructions=(\n",
    "        \"You are an assistant that can help with:\\n\"\n",
    "        \"1. Getting weather information for cities\\n\"\n",
    "        \"2. Checking currency exchange rates\\n\"\n",
    "        \"3. Getting random Game of Thrones quotes\\n\"\n",
    "        \"Use the available tools to help answer questions about these topics.\\n\"\n",
    "        \"Maintain context across conversations within the same session.\"\n",
    "    ),\n",
    "    tools=tools\n",
    ")"
   ]
  },
  {
   "cell_type": "code",
   "execution_count": 8,
   "id": "c74d8aef",
   "metadata": {},
   "outputs": [],
   "source": [
    "def print_messages(messages: List[BaseMessage]):\n",
    "    for m in messages:\n",
    "        print(f\" -> (role = {m.role}, content = {m.content}, tool_calls = {getattr(m, 'tool_calls', None)})\")"
   ]
  },
  {
   "cell_type": "markdown",
   "id": "bf6168f5",
   "metadata": {},
   "source": [
    "## Run your Agent"
   ]
  },
  {
   "cell_type": "code",
   "execution_count": 9,
   "id": "a65caceb",
   "metadata": {},
   "outputs": [],
   "source": [
    "session_id = \"external_tools\""
   ]
  },
  {
   "cell_type": "code",
   "execution_count": 10,
   "id": "89c9238c",
   "metadata": {},
   "outputs": [
    {
     "name": "stdout",
     "output_type": "stream",
     "text": [
      "[StateMachine] Starting: __entry__\n",
      "[StateMachine] Executing step: message_prep\n",
      "[StateMachine] Executing step: llm_processor\n",
      "[StateMachine] Executing step: tool_executor\n",
      "[StateMachine] Executing step: llm_processor\n",
      "[StateMachine] Terminating: __termination__\n",
      "\n",
      "Messages from run 1:\n",
      " -> (role = system, content = You are an assistant that can help with:\n",
      "1. Getting weather information for cities\n",
      "2. Checking currency exchange rates\n",
      "3. Getting random Game of Thrones quotes\n",
      "Use the available tools to help answer questions about these topics.\n",
      "Maintain context across conversations within the same session., tool_calls = None)\n",
      " -> (role = user, content = What's the weather like in London?, tool_calls = None)\n",
      " -> (role = assistant, content = None, tool_calls = [ChatCompletionMessageToolCall(id='call_0bsCRAXMl4xenWesHuU6jXoI', function=Function(arguments='{\"city\":\"London\"}', name='get_weather'), type='function')])\n",
      " -> (role = tool, content = {\"coord\": {\"lon\": -0.1257, \"lat\": 51.5085}, \"weather\": [{\"id\": 803, \"main\": \"Clouds\", \"description\": \"broken clouds\", \"icon\": \"04d\"}], \"base\": \"stations\", \"main\": {\"temp\": 14.37, \"feels_like\": 14.13, \"temp_min\": 13.12, \"temp_max\": 15.56, \"pressure\": 1011, \"humidity\": 87, \"sea_level\": 1011, \"grnd_level\": 1007}, \"visibility\": 10000, \"wind\": {\"speed\": 5.14, \"deg\": 240}, \"clouds\": {\"all\": 75}, \"dt\": 1748406133, \"sys\": {\"type\": 2, \"id\": 2075535, \"country\": \"GB\", \"sunrise\": 1748404356, \"sunset\": 1748462600}, \"timezone\": 3600, \"id\": 2643743, \"name\": \"London\", \"cod\": 200}, tool_calls = None)\n",
      " -> (role = assistant, content = The current weather in London is as follows:\n",
      "\n",
      "- **Temperature**: 14.37°C (feels like 14.13°C)\n",
      "- **Condition**: Broken clouds\n",
      "- **Humidity**: 87%\n",
      "- **Wind Speed**: 5.14 m/s\n",
      "- **Visibility**: 10 km\n",
      "- **Cloud Coverage**: 75%\n",
      "\n",
      "Overall, it's a cool and cloudy day in London., tool_calls = None)\n"
     ]
    }
   ],
   "source": [
    "run1 = agent.invoke(\n",
    "    query=\"What's the weather like in London?\", \n",
    "    session_id=session_id,\n",
    ")\n",
    "\n",
    "print(\"\\nMessages from run 1:\")\n",
    "messages = run1.get_final_state()[\"messages\"]\n",
    "print_messages(messages)"
   ]
  },
  {
   "cell_type": "code",
   "execution_count": 11,
   "id": "65e6b006",
   "metadata": {},
   "outputs": [
    {
     "name": "stdout",
     "output_type": "stream",
     "text": [
      "[StateMachine] Starting: __entry__\n",
      "[StateMachine] Executing step: message_prep\n",
      "[StateMachine] Executing step: llm_processor\n",
      "[StateMachine] Executing step: tool_executor\n",
      "[StateMachine] Executing step: llm_processor\n",
      "[StateMachine] Terminating: __termination__\n",
      "\n",
      "Messages from run 2:\n",
      " -> (role = system, content = You are an assistant that can help with:\n",
      "1. Getting weather information for cities\n",
      "2. Checking currency exchange rates\n",
      "3. Getting random Game of Thrones quotes\n",
      "Use the available tools to help answer questions about these topics.\n",
      "Maintain context across conversations within the same session., tool_calls = None)\n",
      " -> (role = user, content = What's the weather like in London?, tool_calls = None)\n",
      " -> (role = assistant, content = None, tool_calls = [ChatCompletionMessageToolCall(id='call_0bsCRAXMl4xenWesHuU6jXoI', function=Function(arguments='{\"city\":\"London\"}', name='get_weather'), type='function')])\n",
      " -> (role = tool, content = {\"coord\": {\"lon\": -0.1257, \"lat\": 51.5085}, \"weather\": [{\"id\": 803, \"main\": \"Clouds\", \"description\": \"broken clouds\", \"icon\": \"04d\"}], \"base\": \"stations\", \"main\": {\"temp\": 14.37, \"feels_like\": 14.13, \"temp_min\": 13.12, \"temp_max\": 15.56, \"pressure\": 1011, \"humidity\": 87, \"sea_level\": 1011, \"grnd_level\": 1007}, \"visibility\": 10000, \"wind\": {\"speed\": 5.14, \"deg\": 240}, \"clouds\": {\"all\": 75}, \"dt\": 1748406133, \"sys\": {\"type\": 2, \"id\": 2075535, \"country\": \"GB\", \"sunrise\": 1748404356, \"sunset\": 1748462600}, \"timezone\": 3600, \"id\": 2643743, \"name\": \"London\", \"cod\": 200}, tool_calls = None)\n",
      " -> (role = assistant, content = The current weather in London is as follows:\n",
      "\n",
      "- **Temperature**: 14.37°C (feels like 14.13°C)\n",
      "- **Condition**: Broken clouds\n",
      "- **Humidity**: 87%\n",
      "- **Wind Speed**: 5.14 m/s\n",
      "- **Visibility**: 10 km\n",
      "- **Cloud Coverage**: 75%\n",
      "\n",
      "Overall, it's a cool and cloudy day in London., tool_calls = None)\n",
      " -> (role = user, content = What's the exchange rate from USD to EUR?, tool_calls = None)\n",
      " -> (role = assistant, content = None, tool_calls = [ChatCompletionMessageToolCall(id='call_thj1vwbt98YF8SWoTgUjFXnL', function=Function(arguments='{\"from_currency\":\"USD\"}', name='get_exchange_rate'), type='function')])\n",
      " -> (role = tool, content = {\"result\": \"success\", \"documentation\": \"https://www.exchangerate-api.com/docs\", \"terms_of_use\": \"https://www.exchangerate-api.com/terms\", \"time_last_update_unix\": 1748390402, \"time_last_update_utc\": \"Wed, 28 May 2025 00:00:02 +0000\", \"time_next_update_unix\": 1748476802, \"time_next_update_utc\": \"Thu, 29 May 2025 00:00:02 +0000\", \"base_code\": \"USD\", \"conversion_rates\": {\"USD\": 1, \"AED\": 3.6725, \"AFN\": 69.8427, \"ALL\": 86.2504, \"AMD\": 384.262, \"ANG\": 1.79, \"AOA\": 918.7763, \"ARS\": 1148.0, \"AUD\": 1.5514, \"AWG\": 1.79, \"AZN\": 1.6997, \"BAM\": 1.7245, \"BBD\": 2.0, \"BDT\": 122.0289, \"BGN\": 1.7242, \"BHD\": 0.376, \"BIF\": 2973.4576, \"BMD\": 1.0, \"BND\": 1.2882, \"BOB\": 6.9147, \"BRL\": 5.6622, \"BSD\": 1.0, \"BTN\": 85.3369, \"BWP\": 13.4532, \"BYN\": 3.0093, \"BZD\": 2.0, \"CAD\": 1.379, \"CDF\": 2871.1403, \"CHF\": 0.8267, \"CLP\": 940.3014, \"CNY\": 7.1923, \"COP\": 4142.333, \"CRC\": 508.1958, \"CUP\": 24.0, \"CVE\": 97.2218, \"CZK\": 21.9555, \"DJF\": 177.721, \"DKK\": 6.5781, \"DOP\": 58.864, \"DZD\": 131.9452, \"EGP\": 49.8038, \"ERN\": 15.0, \"ETB\": 133.617, \"EUR\": 0.8817, \"FJD\": 2.2525, \"FKP\": 0.7394, \"FOK\": 6.5767, \"GBP\": 0.7394, \"GEL\": 2.7358, \"GGP\": 0.7394, \"GHS\": 10.3711, \"GIP\": 0.7394, \"GMD\": 72.7543, \"GNF\": 8701.0633, \"GTQ\": 7.6656, \"GYD\": 209.4861, \"HKD\": 7.8388, \"HNL\": 26.0188, \"HRK\": 6.6432, \"HTG\": 130.7037, \"HUF\": 356.0188, \"IDR\": 16270.7413, \"ILS\": 3.537, \"IMP\": 0.7394, \"INR\": 85.3663, \"IQD\": 1308.8295, \"IRR\": 41999.2736, \"ISK\": 126.9579, \"JEP\": 0.7394, \"JMD\": 159.1229, \"JOD\": 0.709, \"JPY\": 144.0432, \"KES\": 129.1312, \"KGS\": 87.4773, \"KHR\": 4029.3934, \"KID\": 1.5515, \"KMF\": 433.7729, \"KRW\": 1373.8479, \"KWD\": 0.3066, \"KYD\": 0.8333, \"KZT\": 511.7604, \"LAK\": 21710.3686, \"LBP\": 89500.0, \"LKR\": 299.3445, \"LRD\": 199.8534, \"LSL\": 17.9283, \"LYD\": 5.4638, \"MAD\": 9.2125, \"MDL\": 17.2513, \"MGA\": 4522.758, \"MKD\": 54.1899, \"MMK\": 2097.5274, \"MNT\": 3535.536, \"MOP\": 8.0741, \"MRU\": 39.7751, \"MUR\": 45.3961, \"MVR\": 15.4517, \"MWK\": 1741.9962, \"MXN\": 19.2563, \"MYR\": 4.2377, \"MZN\": 63.8385, \"NAD\": 17.9283, \"NGN\": 1583.2911, \"NIO\": 36.7652, \"NOK\": 10.1473, \"NPR\": 136.5391, \"NZD\": 1.6805, \"OMR\": 0.3845, \"PAB\": 1.0, \"PEN\": 3.6491, \"PGK\": 4.1291, \"PHP\": 55.5512, \"PKR\": 282.7547, \"PLN\": 3.7454, \"PYG\": 8012.8743, \"QAR\": 3.64, \"RON\": 4.4573, \"RSD\": 103.3444, \"RUB\": 80.1034, \"RWF\": 1437.3578, \"SAR\": 3.75, \"SBD\": 8.5638, \"SCR\": 14.2785, \"SDG\": 449.3233, \"SEK\": 9.6119, \"SGD\": 1.2882, \"SHP\": 0.7394, \"SLE\": 22.8207, \"SLL\": 22820.7227, \"SOS\": 571.385, \"SRD\": 36.6515, \"SSP\": 4621.1349, \"STN\": 21.6019, \"SYP\": 12869.3087, \"SZL\": 17.9283, \"THB\": 32.7481, \"TJS\": 10.3889, \"TMT\": 3.5001, \"TND\": 2.9839, \"TOP\": 2.3739, \"TRY\": 39.0648, \"TTD\": 6.7892, \"TVD\": 1.5515, \"TWD\": 29.8638, \"TZS\": 2683.1897, \"UAH\": 41.6662, \"UGX\": 3647.4496, \"UYU\": 41.5674, \"UZS\": 12887.0681, \"VES\": 95.8052, \"VND\": 25923.0092, \"VUV\": 119.9665, \"WST\": 2.759, \"XAF\": 578.3639, \"XCD\": 2.7, \"XCG\": 1.79, \"XDR\": 0.7331, \"XOF\": 578.3639, \"XPF\": 105.2162, \"YER\": 243.7292, \"ZAR\": 17.9328, \"ZMW\": 27.3391, \"ZWL\": 26.9014}}, tool_calls = None)\n",
      " -> (role = assistant, content = The current exchange rate from USD to EUR is approximately **0.8817 EUR** for **1 USD**., tool_calls = None)\n"
     ]
    }
   ],
   "source": [
    "run2 = agent.invoke(\n",
    "    query=\"What's the exchange rate from USD to EUR?\", \n",
    "    session_id=session_id,\n",
    ")\n",
    "print(\"\\nMessages from run 2:\")\n",
    "messages = run2.get_final_state()[\"messages\"]\n",
    "print_messages(messages)"
   ]
  },
  {
   "cell_type": "code",
   "execution_count": 12,
   "id": "66335d57",
   "metadata": {},
   "outputs": [
    {
     "name": "stdout",
     "output_type": "stream",
     "text": [
      "[StateMachine] Starting: __entry__\n",
      "[StateMachine] Executing step: message_prep\n",
      "[StateMachine] Executing step: llm_processor\n",
      "[StateMachine] Executing step: tool_executor\n",
      "[StateMachine] Executing step: llm_processor\n",
      "[StateMachine] Terminating: __termination__\n",
      "\n",
      "Messages from run 3:\n",
      " -> (role = system, content = You are an assistant that can help with:\n",
      "1. Getting weather information for cities\n",
      "2. Checking currency exchange rates\n",
      "3. Getting random Game of Thrones quotes\n",
      "Use the available tools to help answer questions about these topics.\n",
      "Maintain context across conversations within the same session., tool_calls = None)\n",
      " -> (role = user, content = What's the weather like in London?, tool_calls = None)\n",
      " -> (role = assistant, content = None, tool_calls = [ChatCompletionMessageToolCall(id='call_0bsCRAXMl4xenWesHuU6jXoI', function=Function(arguments='{\"city\":\"London\"}', name='get_weather'), type='function')])\n",
      " -> (role = tool, content = {\"coord\": {\"lon\": -0.1257, \"lat\": 51.5085}, \"weather\": [{\"id\": 803, \"main\": \"Clouds\", \"description\": \"broken clouds\", \"icon\": \"04d\"}], \"base\": \"stations\", \"main\": {\"temp\": 14.37, \"feels_like\": 14.13, \"temp_min\": 13.12, \"temp_max\": 15.56, \"pressure\": 1011, \"humidity\": 87, \"sea_level\": 1011, \"grnd_level\": 1007}, \"visibility\": 10000, \"wind\": {\"speed\": 5.14, \"deg\": 240}, \"clouds\": {\"all\": 75}, \"dt\": 1748406133, \"sys\": {\"type\": 2, \"id\": 2075535, \"country\": \"GB\", \"sunrise\": 1748404356, \"sunset\": 1748462600}, \"timezone\": 3600, \"id\": 2643743, \"name\": \"London\", \"cod\": 200}, tool_calls = None)\n",
      " -> (role = assistant, content = The current weather in London is as follows:\n",
      "\n",
      "- **Temperature**: 14.37°C (feels like 14.13°C)\n",
      "- **Condition**: Broken clouds\n",
      "- **Humidity**: 87%\n",
      "- **Wind Speed**: 5.14 m/s\n",
      "- **Visibility**: 10 km\n",
      "- **Cloud Coverage**: 75%\n",
      "\n",
      "Overall, it's a cool and cloudy day in London., tool_calls = None)\n",
      " -> (role = user, content = What's the exchange rate from USD to EUR?, tool_calls = None)\n",
      " -> (role = assistant, content = None, tool_calls = [ChatCompletionMessageToolCall(id='call_thj1vwbt98YF8SWoTgUjFXnL', function=Function(arguments='{\"from_currency\":\"USD\"}', name='get_exchange_rate'), type='function')])\n",
      " -> (role = tool, content = {\"result\": \"success\", \"documentation\": \"https://www.exchangerate-api.com/docs\", \"terms_of_use\": \"https://www.exchangerate-api.com/terms\", \"time_last_update_unix\": 1748390402, \"time_last_update_utc\": \"Wed, 28 May 2025 00:00:02 +0000\", \"time_next_update_unix\": 1748476802, \"time_next_update_utc\": \"Thu, 29 May 2025 00:00:02 +0000\", \"base_code\": \"USD\", \"conversion_rates\": {\"USD\": 1, \"AED\": 3.6725, \"AFN\": 69.8427, \"ALL\": 86.2504, \"AMD\": 384.262, \"ANG\": 1.79, \"AOA\": 918.7763, \"ARS\": 1148.0, \"AUD\": 1.5514, \"AWG\": 1.79, \"AZN\": 1.6997, \"BAM\": 1.7245, \"BBD\": 2.0, \"BDT\": 122.0289, \"BGN\": 1.7242, \"BHD\": 0.376, \"BIF\": 2973.4576, \"BMD\": 1.0, \"BND\": 1.2882, \"BOB\": 6.9147, \"BRL\": 5.6622, \"BSD\": 1.0, \"BTN\": 85.3369, \"BWP\": 13.4532, \"BYN\": 3.0093, \"BZD\": 2.0, \"CAD\": 1.379, \"CDF\": 2871.1403, \"CHF\": 0.8267, \"CLP\": 940.3014, \"CNY\": 7.1923, \"COP\": 4142.333, \"CRC\": 508.1958, \"CUP\": 24.0, \"CVE\": 97.2218, \"CZK\": 21.9555, \"DJF\": 177.721, \"DKK\": 6.5781, \"DOP\": 58.864, \"DZD\": 131.9452, \"EGP\": 49.8038, \"ERN\": 15.0, \"ETB\": 133.617, \"EUR\": 0.8817, \"FJD\": 2.2525, \"FKP\": 0.7394, \"FOK\": 6.5767, \"GBP\": 0.7394, \"GEL\": 2.7358, \"GGP\": 0.7394, \"GHS\": 10.3711, \"GIP\": 0.7394, \"GMD\": 72.7543, \"GNF\": 8701.0633, \"GTQ\": 7.6656, \"GYD\": 209.4861, \"HKD\": 7.8388, \"HNL\": 26.0188, \"HRK\": 6.6432, \"HTG\": 130.7037, \"HUF\": 356.0188, \"IDR\": 16270.7413, \"ILS\": 3.537, \"IMP\": 0.7394, \"INR\": 85.3663, \"IQD\": 1308.8295, \"IRR\": 41999.2736, \"ISK\": 126.9579, \"JEP\": 0.7394, \"JMD\": 159.1229, \"JOD\": 0.709, \"JPY\": 144.0432, \"KES\": 129.1312, \"KGS\": 87.4773, \"KHR\": 4029.3934, \"KID\": 1.5515, \"KMF\": 433.7729, \"KRW\": 1373.8479, \"KWD\": 0.3066, \"KYD\": 0.8333, \"KZT\": 511.7604, \"LAK\": 21710.3686, \"LBP\": 89500.0, \"LKR\": 299.3445, \"LRD\": 199.8534, \"LSL\": 17.9283, \"LYD\": 5.4638, \"MAD\": 9.2125, \"MDL\": 17.2513, \"MGA\": 4522.758, \"MKD\": 54.1899, \"MMK\": 2097.5274, \"MNT\": 3535.536, \"MOP\": 8.0741, \"MRU\": 39.7751, \"MUR\": 45.3961, \"MVR\": 15.4517, \"MWK\": 1741.9962, \"MXN\": 19.2563, \"MYR\": 4.2377, \"MZN\": 63.8385, \"NAD\": 17.9283, \"NGN\": 1583.2911, \"NIO\": 36.7652, \"NOK\": 10.1473, \"NPR\": 136.5391, \"NZD\": 1.6805, \"OMR\": 0.3845, \"PAB\": 1.0, \"PEN\": 3.6491, \"PGK\": 4.1291, \"PHP\": 55.5512, \"PKR\": 282.7547, \"PLN\": 3.7454, \"PYG\": 8012.8743, \"QAR\": 3.64, \"RON\": 4.4573, \"RSD\": 103.3444, \"RUB\": 80.1034, \"RWF\": 1437.3578, \"SAR\": 3.75, \"SBD\": 8.5638, \"SCR\": 14.2785, \"SDG\": 449.3233, \"SEK\": 9.6119, \"SGD\": 1.2882, \"SHP\": 0.7394, \"SLE\": 22.8207, \"SLL\": 22820.7227, \"SOS\": 571.385, \"SRD\": 36.6515, \"SSP\": 4621.1349, \"STN\": 21.6019, \"SYP\": 12869.3087, \"SZL\": 17.9283, \"THB\": 32.7481, \"TJS\": 10.3889, \"TMT\": 3.5001, \"TND\": 2.9839, \"TOP\": 2.3739, \"TRY\": 39.0648, \"TTD\": 6.7892, \"TVD\": 1.5515, \"TWD\": 29.8638, \"TZS\": 2683.1897, \"UAH\": 41.6662, \"UGX\": 3647.4496, \"UYU\": 41.5674, \"UZS\": 12887.0681, \"VES\": 95.8052, \"VND\": 25923.0092, \"VUV\": 119.9665, \"WST\": 2.759, \"XAF\": 578.3639, \"XCD\": 2.7, \"XCG\": 1.79, \"XDR\": 0.7331, \"XOF\": 578.3639, \"XPF\": 105.2162, \"YER\": 243.7292, \"ZAR\": 17.9328, \"ZMW\": 27.3391, \"ZWL\": 26.9014}}, tool_calls = None)\n",
      " -> (role = assistant, content = The current exchange rate from USD to EUR is approximately **0.8817 EUR** for **1 USD**., tool_calls = None)\n",
      " -> (role = user, content = Give me a Game of Thrones quote!, tool_calls = None)\n",
      " -> (role = assistant, content = None, tool_calls = [ChatCompletionMessageToolCall(id='call_Hi2MK08BomYWlSnLIOAgtBwr', function=Function(arguments='{}', name='get_got_quote'), type='function')])\n",
      " -> (role = tool, content = {\"sentence\": \"He was no dragon. Fire cannot kill a dragon.\", \"character\": {\"name\": \"Daenerys Targaryen\", \"slug\": \"daenerys\", \"house\": {\"name\": \"House Targaryen of King's Landing\", \"slug\": \"targaryen\"}}}, tool_calls = None)\n",
      " -> (role = assistant, content = Here's a quote from Daenerys Targaryen: \n",
      "\n",
      "\"He was no dragon. Fire cannot kill a dragon.\" \n",
      "\n",
      "— House Targaryen of King's Landing, tool_calls = None)\n"
     ]
    }
   ],
   "source": [
    "run3 = agent.invoke(\n",
    "    query=\"Give me a Game of Thrones quote!\", \n",
    "    session_id=session_id,\n",
    ")\n",
    "print(\"\\nMessages from run 3:\")\n",
    "messages = run3.get_final_state()[\"messages\"]\n",
    "print_messages(messages)\n"
   ]
  },
  {
   "cell_type": "markdown",
   "id": "f160949c",
   "metadata": {},
   "source": [
    "## Check session histories"
   ]
  },
  {
   "cell_type": "code",
   "execution_count": 13,
   "id": "f6fdabe5",
   "metadata": {},
   "outputs": [
    {
     "name": "stdout",
     "output_type": "stream",
     "text": [
      "\n",
      "# Run 1 {'run_id': '42e66c25-6fc3-46d4-9be9-db0a59432b50', 'start_timestamp': '2025-05-28 01:28:04.491397', 'end_timestamp': '2025-05-28 01:28:08.917724', 'snapshot_counts': 5}\n",
      "Messages:\n",
      " -> (role = system, content = You are an assistant that can help with:\n",
      "1. Getting weather information for cities\n",
      "2. Checking currency exchange rates\n",
      "3. Getting random Game of Thrones quotes\n",
      "Use the available tools to help answer questions about these topics.\n",
      "Maintain context across conversations within the same session., tool_calls = None)\n",
      " -> (role = user, content = What's the weather like in London?, tool_calls = None)\n",
      " -> (role = assistant, content = None, tool_calls = [ChatCompletionMessageToolCall(id='call_0bsCRAXMl4xenWesHuU6jXoI', function=Function(arguments='{\"city\":\"London\"}', name='get_weather'), type='function')])\n",
      " -> (role = tool, content = {\"coord\": {\"lon\": -0.1257, \"lat\": 51.5085}, \"weather\": [{\"id\": 803, \"main\": \"Clouds\", \"description\": \"broken clouds\", \"icon\": \"04d\"}], \"base\": \"stations\", \"main\": {\"temp\": 14.37, \"feels_like\": 14.13, \"temp_min\": 13.12, \"temp_max\": 15.56, \"pressure\": 1011, \"humidity\": 87, \"sea_level\": 1011, \"grnd_level\": 1007}, \"visibility\": 10000, \"wind\": {\"speed\": 5.14, \"deg\": 240}, \"clouds\": {\"all\": 75}, \"dt\": 1748406133, \"sys\": {\"type\": 2, \"id\": 2075535, \"country\": \"GB\", \"sunrise\": 1748404356, \"sunset\": 1748462600}, \"timezone\": 3600, \"id\": 2643743, \"name\": \"London\", \"cod\": 200}, tool_calls = None)\n",
      " -> (role = assistant, content = The current weather in London is as follows:\n",
      "\n",
      "- **Temperature**: 14.37°C (feels like 14.13°C)\n",
      "- **Condition**: Broken clouds\n",
      "- **Humidity**: 87%\n",
      "- **Wind Speed**: 5.14 m/s\n",
      "- **Visibility**: 10 km\n",
      "- **Cloud Coverage**: 75%\n",
      "\n",
      "Overall, it's a cool and cloudy day in London., tool_calls = None)\n",
      "\n",
      "# Run 2 {'run_id': '7681fdc3-cb7c-4b42-977f-40d31071d063', 'start_timestamp': '2025-05-28 01:28:44.968065', 'end_timestamp': '2025-05-28 01:28:51.106221', 'snapshot_counts': 5}\n",
      "Messages:\n",
      " -> (role = system, content = You are an assistant that can help with:\n",
      "1. Getting weather information for cities\n",
      "2. Checking currency exchange rates\n",
      "3. Getting random Game of Thrones quotes\n",
      "Use the available tools to help answer questions about these topics.\n",
      "Maintain context across conversations within the same session., tool_calls = None)\n",
      " -> (role = user, content = What's the weather like in London?, tool_calls = None)\n",
      " -> (role = assistant, content = None, tool_calls = [ChatCompletionMessageToolCall(id='call_0bsCRAXMl4xenWesHuU6jXoI', function=Function(arguments='{\"city\":\"London\"}', name='get_weather'), type='function')])\n",
      " -> (role = tool, content = {\"coord\": {\"lon\": -0.1257, \"lat\": 51.5085}, \"weather\": [{\"id\": 803, \"main\": \"Clouds\", \"description\": \"broken clouds\", \"icon\": \"04d\"}], \"base\": \"stations\", \"main\": {\"temp\": 14.37, \"feels_like\": 14.13, \"temp_min\": 13.12, \"temp_max\": 15.56, \"pressure\": 1011, \"humidity\": 87, \"sea_level\": 1011, \"grnd_level\": 1007}, \"visibility\": 10000, \"wind\": {\"speed\": 5.14, \"deg\": 240}, \"clouds\": {\"all\": 75}, \"dt\": 1748406133, \"sys\": {\"type\": 2, \"id\": 2075535, \"country\": \"GB\", \"sunrise\": 1748404356, \"sunset\": 1748462600}, \"timezone\": 3600, \"id\": 2643743, \"name\": \"London\", \"cod\": 200}, tool_calls = None)\n",
      " -> (role = assistant, content = The current weather in London is as follows:\n",
      "\n",
      "- **Temperature**: 14.37°C (feels like 14.13°C)\n",
      "- **Condition**: Broken clouds\n",
      "- **Humidity**: 87%\n",
      "- **Wind Speed**: 5.14 m/s\n",
      "- **Visibility**: 10 km\n",
      "- **Cloud Coverage**: 75%\n",
      "\n",
      "Overall, it's a cool and cloudy day in London., tool_calls = None)\n",
      " -> (role = user, content = What's the exchange rate from USD to EUR?, tool_calls = None)\n",
      " -> (role = assistant, content = None, tool_calls = [ChatCompletionMessageToolCall(id='call_thj1vwbt98YF8SWoTgUjFXnL', function=Function(arguments='{\"from_currency\":\"USD\"}', name='get_exchange_rate'), type='function')])\n",
      " -> (role = tool, content = {\"result\": \"success\", \"documentation\": \"https://www.exchangerate-api.com/docs\", \"terms_of_use\": \"https://www.exchangerate-api.com/terms\", \"time_last_update_unix\": 1748390402, \"time_last_update_utc\": \"Wed, 28 May 2025 00:00:02 +0000\", \"time_next_update_unix\": 1748476802, \"time_next_update_utc\": \"Thu, 29 May 2025 00:00:02 +0000\", \"base_code\": \"USD\", \"conversion_rates\": {\"USD\": 1, \"AED\": 3.6725, \"AFN\": 69.8427, \"ALL\": 86.2504, \"AMD\": 384.262, \"ANG\": 1.79, \"AOA\": 918.7763, \"ARS\": 1148.0, \"AUD\": 1.5514, \"AWG\": 1.79, \"AZN\": 1.6997, \"BAM\": 1.7245, \"BBD\": 2.0, \"BDT\": 122.0289, \"BGN\": 1.7242, \"BHD\": 0.376, \"BIF\": 2973.4576, \"BMD\": 1.0, \"BND\": 1.2882, \"BOB\": 6.9147, \"BRL\": 5.6622, \"BSD\": 1.0, \"BTN\": 85.3369, \"BWP\": 13.4532, \"BYN\": 3.0093, \"BZD\": 2.0, \"CAD\": 1.379, \"CDF\": 2871.1403, \"CHF\": 0.8267, \"CLP\": 940.3014, \"CNY\": 7.1923, \"COP\": 4142.333, \"CRC\": 508.1958, \"CUP\": 24.0, \"CVE\": 97.2218, \"CZK\": 21.9555, \"DJF\": 177.721, \"DKK\": 6.5781, \"DOP\": 58.864, \"DZD\": 131.9452, \"EGP\": 49.8038, \"ERN\": 15.0, \"ETB\": 133.617, \"EUR\": 0.8817, \"FJD\": 2.2525, \"FKP\": 0.7394, \"FOK\": 6.5767, \"GBP\": 0.7394, \"GEL\": 2.7358, \"GGP\": 0.7394, \"GHS\": 10.3711, \"GIP\": 0.7394, \"GMD\": 72.7543, \"GNF\": 8701.0633, \"GTQ\": 7.6656, \"GYD\": 209.4861, \"HKD\": 7.8388, \"HNL\": 26.0188, \"HRK\": 6.6432, \"HTG\": 130.7037, \"HUF\": 356.0188, \"IDR\": 16270.7413, \"ILS\": 3.537, \"IMP\": 0.7394, \"INR\": 85.3663, \"IQD\": 1308.8295, \"IRR\": 41999.2736, \"ISK\": 126.9579, \"JEP\": 0.7394, \"JMD\": 159.1229, \"JOD\": 0.709, \"JPY\": 144.0432, \"KES\": 129.1312, \"KGS\": 87.4773, \"KHR\": 4029.3934, \"KID\": 1.5515, \"KMF\": 433.7729, \"KRW\": 1373.8479, \"KWD\": 0.3066, \"KYD\": 0.8333, \"KZT\": 511.7604, \"LAK\": 21710.3686, \"LBP\": 89500.0, \"LKR\": 299.3445, \"LRD\": 199.8534, \"LSL\": 17.9283, \"LYD\": 5.4638, \"MAD\": 9.2125, \"MDL\": 17.2513, \"MGA\": 4522.758, \"MKD\": 54.1899, \"MMK\": 2097.5274, \"MNT\": 3535.536, \"MOP\": 8.0741, \"MRU\": 39.7751, \"MUR\": 45.3961, \"MVR\": 15.4517, \"MWK\": 1741.9962, \"MXN\": 19.2563, \"MYR\": 4.2377, \"MZN\": 63.8385, \"NAD\": 17.9283, \"NGN\": 1583.2911, \"NIO\": 36.7652, \"NOK\": 10.1473, \"NPR\": 136.5391, \"NZD\": 1.6805, \"OMR\": 0.3845, \"PAB\": 1.0, \"PEN\": 3.6491, \"PGK\": 4.1291, \"PHP\": 55.5512, \"PKR\": 282.7547, \"PLN\": 3.7454, \"PYG\": 8012.8743, \"QAR\": 3.64, \"RON\": 4.4573, \"RSD\": 103.3444, \"RUB\": 80.1034, \"RWF\": 1437.3578, \"SAR\": 3.75, \"SBD\": 8.5638, \"SCR\": 14.2785, \"SDG\": 449.3233, \"SEK\": 9.6119, \"SGD\": 1.2882, \"SHP\": 0.7394, \"SLE\": 22.8207, \"SLL\": 22820.7227, \"SOS\": 571.385, \"SRD\": 36.6515, \"SSP\": 4621.1349, \"STN\": 21.6019, \"SYP\": 12869.3087, \"SZL\": 17.9283, \"THB\": 32.7481, \"TJS\": 10.3889, \"TMT\": 3.5001, \"TND\": 2.9839, \"TOP\": 2.3739, \"TRY\": 39.0648, \"TTD\": 6.7892, \"TVD\": 1.5515, \"TWD\": 29.8638, \"TZS\": 2683.1897, \"UAH\": 41.6662, \"UGX\": 3647.4496, \"UYU\": 41.5674, \"UZS\": 12887.0681, \"VES\": 95.8052, \"VND\": 25923.0092, \"VUV\": 119.9665, \"WST\": 2.759, \"XAF\": 578.3639, \"XCD\": 2.7, \"XCG\": 1.79, \"XDR\": 0.7331, \"XOF\": 578.3639, \"XPF\": 105.2162, \"YER\": 243.7292, \"ZAR\": 17.9328, \"ZMW\": 27.3391, \"ZWL\": 26.9014}}, tool_calls = None)\n",
      " -> (role = assistant, content = The current exchange rate from USD to EUR is approximately **0.8817 EUR** for **1 USD**., tool_calls = None)\n",
      "\n",
      "# Run 3 {'run_id': 'd8a03ba4-be81-4d42-b546-773db1a2f0ec', 'start_timestamp': '2025-05-28 01:29:42.746725', 'end_timestamp': '2025-05-28 01:29:47.474982', 'snapshot_counts': 5}\n",
      "Messages:\n",
      " -> (role = system, content = You are an assistant that can help with:\n",
      "1. Getting weather information for cities\n",
      "2. Checking currency exchange rates\n",
      "3. Getting random Game of Thrones quotes\n",
      "Use the available tools to help answer questions about these topics.\n",
      "Maintain context across conversations within the same session., tool_calls = None)\n",
      " -> (role = user, content = What's the weather like in London?, tool_calls = None)\n",
      " -> (role = assistant, content = None, tool_calls = [ChatCompletionMessageToolCall(id='call_0bsCRAXMl4xenWesHuU6jXoI', function=Function(arguments='{\"city\":\"London\"}', name='get_weather'), type='function')])\n",
      " -> (role = tool, content = {\"coord\": {\"lon\": -0.1257, \"lat\": 51.5085}, \"weather\": [{\"id\": 803, \"main\": \"Clouds\", \"description\": \"broken clouds\", \"icon\": \"04d\"}], \"base\": \"stations\", \"main\": {\"temp\": 14.37, \"feels_like\": 14.13, \"temp_min\": 13.12, \"temp_max\": 15.56, \"pressure\": 1011, \"humidity\": 87, \"sea_level\": 1011, \"grnd_level\": 1007}, \"visibility\": 10000, \"wind\": {\"speed\": 5.14, \"deg\": 240}, \"clouds\": {\"all\": 75}, \"dt\": 1748406133, \"sys\": {\"type\": 2, \"id\": 2075535, \"country\": \"GB\", \"sunrise\": 1748404356, \"sunset\": 1748462600}, \"timezone\": 3600, \"id\": 2643743, \"name\": \"London\", \"cod\": 200}, tool_calls = None)\n",
      " -> (role = assistant, content = The current weather in London is as follows:\n",
      "\n",
      "- **Temperature**: 14.37°C (feels like 14.13°C)\n",
      "- **Condition**: Broken clouds\n",
      "- **Humidity**: 87%\n",
      "- **Wind Speed**: 5.14 m/s\n",
      "- **Visibility**: 10 km\n",
      "- **Cloud Coverage**: 75%\n",
      "\n",
      "Overall, it's a cool and cloudy day in London., tool_calls = None)\n",
      " -> (role = user, content = What's the exchange rate from USD to EUR?, tool_calls = None)\n",
      " -> (role = assistant, content = None, tool_calls = [ChatCompletionMessageToolCall(id='call_thj1vwbt98YF8SWoTgUjFXnL', function=Function(arguments='{\"from_currency\":\"USD\"}', name='get_exchange_rate'), type='function')])\n",
      " -> (role = tool, content = {\"result\": \"success\", \"documentation\": \"https://www.exchangerate-api.com/docs\", \"terms_of_use\": \"https://www.exchangerate-api.com/terms\", \"time_last_update_unix\": 1748390402, \"time_last_update_utc\": \"Wed, 28 May 2025 00:00:02 +0000\", \"time_next_update_unix\": 1748476802, \"time_next_update_utc\": \"Thu, 29 May 2025 00:00:02 +0000\", \"base_code\": \"USD\", \"conversion_rates\": {\"USD\": 1, \"AED\": 3.6725, \"AFN\": 69.8427, \"ALL\": 86.2504, \"AMD\": 384.262, \"ANG\": 1.79, \"AOA\": 918.7763, \"ARS\": 1148.0, \"AUD\": 1.5514, \"AWG\": 1.79, \"AZN\": 1.6997, \"BAM\": 1.7245, \"BBD\": 2.0, \"BDT\": 122.0289, \"BGN\": 1.7242, \"BHD\": 0.376, \"BIF\": 2973.4576, \"BMD\": 1.0, \"BND\": 1.2882, \"BOB\": 6.9147, \"BRL\": 5.6622, \"BSD\": 1.0, \"BTN\": 85.3369, \"BWP\": 13.4532, \"BYN\": 3.0093, \"BZD\": 2.0, \"CAD\": 1.379, \"CDF\": 2871.1403, \"CHF\": 0.8267, \"CLP\": 940.3014, \"CNY\": 7.1923, \"COP\": 4142.333, \"CRC\": 508.1958, \"CUP\": 24.0, \"CVE\": 97.2218, \"CZK\": 21.9555, \"DJF\": 177.721, \"DKK\": 6.5781, \"DOP\": 58.864, \"DZD\": 131.9452, \"EGP\": 49.8038, \"ERN\": 15.0, \"ETB\": 133.617, \"EUR\": 0.8817, \"FJD\": 2.2525, \"FKP\": 0.7394, \"FOK\": 6.5767, \"GBP\": 0.7394, \"GEL\": 2.7358, \"GGP\": 0.7394, \"GHS\": 10.3711, \"GIP\": 0.7394, \"GMD\": 72.7543, \"GNF\": 8701.0633, \"GTQ\": 7.6656, \"GYD\": 209.4861, \"HKD\": 7.8388, \"HNL\": 26.0188, \"HRK\": 6.6432, \"HTG\": 130.7037, \"HUF\": 356.0188, \"IDR\": 16270.7413, \"ILS\": 3.537, \"IMP\": 0.7394, \"INR\": 85.3663, \"IQD\": 1308.8295, \"IRR\": 41999.2736, \"ISK\": 126.9579, \"JEP\": 0.7394, \"JMD\": 159.1229, \"JOD\": 0.709, \"JPY\": 144.0432, \"KES\": 129.1312, \"KGS\": 87.4773, \"KHR\": 4029.3934, \"KID\": 1.5515, \"KMF\": 433.7729, \"KRW\": 1373.8479, \"KWD\": 0.3066, \"KYD\": 0.8333, \"KZT\": 511.7604, \"LAK\": 21710.3686, \"LBP\": 89500.0, \"LKR\": 299.3445, \"LRD\": 199.8534, \"LSL\": 17.9283, \"LYD\": 5.4638, \"MAD\": 9.2125, \"MDL\": 17.2513, \"MGA\": 4522.758, \"MKD\": 54.1899, \"MMK\": 2097.5274, \"MNT\": 3535.536, \"MOP\": 8.0741, \"MRU\": 39.7751, \"MUR\": 45.3961, \"MVR\": 15.4517, \"MWK\": 1741.9962, \"MXN\": 19.2563, \"MYR\": 4.2377, \"MZN\": 63.8385, \"NAD\": 17.9283, \"NGN\": 1583.2911, \"NIO\": 36.7652, \"NOK\": 10.1473, \"NPR\": 136.5391, \"NZD\": 1.6805, \"OMR\": 0.3845, \"PAB\": 1.0, \"PEN\": 3.6491, \"PGK\": 4.1291, \"PHP\": 55.5512, \"PKR\": 282.7547, \"PLN\": 3.7454, \"PYG\": 8012.8743, \"QAR\": 3.64, \"RON\": 4.4573, \"RSD\": 103.3444, \"RUB\": 80.1034, \"RWF\": 1437.3578, \"SAR\": 3.75, \"SBD\": 8.5638, \"SCR\": 14.2785, \"SDG\": 449.3233, \"SEK\": 9.6119, \"SGD\": 1.2882, \"SHP\": 0.7394, \"SLE\": 22.8207, \"SLL\": 22820.7227, \"SOS\": 571.385, \"SRD\": 36.6515, \"SSP\": 4621.1349, \"STN\": 21.6019, \"SYP\": 12869.3087, \"SZL\": 17.9283, \"THB\": 32.7481, \"TJS\": 10.3889, \"TMT\": 3.5001, \"TND\": 2.9839, \"TOP\": 2.3739, \"TRY\": 39.0648, \"TTD\": 6.7892, \"TVD\": 1.5515, \"TWD\": 29.8638, \"TZS\": 2683.1897, \"UAH\": 41.6662, \"UGX\": 3647.4496, \"UYU\": 41.5674, \"UZS\": 12887.0681, \"VES\": 95.8052, \"VND\": 25923.0092, \"VUV\": 119.9665, \"WST\": 2.759, \"XAF\": 578.3639, \"XCD\": 2.7, \"XCG\": 1.79, \"XDR\": 0.7331, \"XOF\": 578.3639, \"XPF\": 105.2162, \"YER\": 243.7292, \"ZAR\": 17.9328, \"ZMW\": 27.3391, \"ZWL\": 26.9014}}, tool_calls = None)\n",
      " -> (role = assistant, content = The current exchange rate from USD to EUR is approximately **0.8817 EUR** for **1 USD**., tool_calls = None)\n",
      " -> (role = user, content = Give me a Game of Thrones quote!, tool_calls = None)\n",
      " -> (role = assistant, content = None, tool_calls = [ChatCompletionMessageToolCall(id='call_Hi2MK08BomYWlSnLIOAgtBwr', function=Function(arguments='{}', name='get_got_quote'), type='function')])\n",
      " -> (role = tool, content = {\"sentence\": \"He was no dragon. Fire cannot kill a dragon.\", \"character\": {\"name\": \"Daenerys Targaryen\", \"slug\": \"daenerys\", \"house\": {\"name\": \"House Targaryen of King's Landing\", \"slug\": \"targaryen\"}}}, tool_calls = None)\n",
      " -> (role = assistant, content = Here's a quote from Daenerys Targaryen: \n",
      "\n",
      "\"He was no dragon. Fire cannot kill a dragon.\" \n",
      "\n",
      "— House Targaryen of King's Landing, tool_calls = None)\n"
     ]
    }
   ],
   "source": [
    "runs = agent.get_session_runs(session_id)\n",
    "for i, run_object in enumerate(runs, 1):\n",
    "    print(f\"\\n# Run {i}\", run_object.metadata)\n",
    "    print(\"Messages:\")\n",
    "    print_messages(run_object.get_final_state()[\"messages\"])"
   ]
  },
  {
   "cell_type": "code",
   "execution_count": 14,
   "id": "98dafe45",
   "metadata": {},
   "outputs": [
    {
     "name": "stdout",
     "output_type": "stream",
     "text": [
      "Run('42e66c25-6fc3-46d4-9be9-db0a59432b50')\n",
      "-> Snapshot('5bfbb0e8-cd65-4373-babe-b7f290916c09') @ [2025-05-28 01:28:04.491586]: __entry__.State({'user_query': \"What's the weather like in London?\", 'instructions': 'You are an assistant that can help with:\\n1. Getting weather information for cities\\n2. Checking currency exchange rates\\n3. Getting random Game of Thrones quotes\\nUse the available tools to help answer questions about these topics.\\nMaintain context across conversations within the same session.', 'messages': [], 'current_tool_calls': None, 'session_id': 'external_tools'})\n",
      "-> Snapshot('eb170522-b8c2-4895-b32a-d43c079e49f9') @ [2025-05-28 01:28:04.493581]: message_prep.State({'user_query': \"What's the weather like in London?\", 'instructions': 'You are an assistant that can help with:\\n1. Getting weather information for cities\\n2. Checking currency exchange rates\\n3. Getting random Game of Thrones quotes\\nUse the available tools to help answer questions about these topics.\\nMaintain context across conversations within the same session.', 'messages': [SystemMessage(role='system', content='You are an assistant that can help with:\\n1. Getting weather information for cities\\n2. Checking currency exchange rates\\n3. Getting random Game of Thrones quotes\\nUse the available tools to help answer questions about these topics.\\nMaintain context across conversations within the same session.'), UserMessage(role='user', content=\"What's the weather like in London?\")], 'current_tool_calls': None, 'session_id': 'external_tools'})\n",
      "-> Snapshot('1a6a149b-4fad-41d6-8b8f-3d2312919bb3') @ [2025-05-28 01:28:06.054536]: llm_processor.State({'user_query': \"What's the weather like in London?\", 'instructions': 'You are an assistant that can help with:\\n1. Getting weather information for cities\\n2. Checking currency exchange rates\\n3. Getting random Game of Thrones quotes\\nUse the available tools to help answer questions about these topics.\\nMaintain context across conversations within the same session.', 'messages': [SystemMessage(role='system', content='You are an assistant that can help with:\\n1. Getting weather information for cities\\n2. Checking currency exchange rates\\n3. Getting random Game of Thrones quotes\\nUse the available tools to help answer questions about these topics.\\nMaintain context across conversations within the same session.'), UserMessage(role='user', content=\"What's the weather like in London?\"), AIMessage(role='assistant', content=None, tool_calls=[ChatCompletionMessageToolCall(id='call_0bsCRAXMl4xenWesHuU6jXoI', function=Function(arguments='{\"city\":\"London\"}', name='get_weather'), type='function')])], 'current_tool_calls': [ChatCompletionMessageToolCall(id='call_0bsCRAXMl4xenWesHuU6jXoI', function=Function(arguments='{\"city\":\"London\"}', name='get_weather'), type='function')], 'session_id': 'external_tools'})\n",
      "-> Snapshot('015d92f1-703b-4211-8c83-a69617d6d7dd') @ [2025-05-28 01:28:06.468204]: tool_executor.State({'user_query': \"What's the weather like in London?\", 'instructions': 'You are an assistant that can help with:\\n1. Getting weather information for cities\\n2. Checking currency exchange rates\\n3. Getting random Game of Thrones quotes\\nUse the available tools to help answer questions about these topics.\\nMaintain context across conversations within the same session.', 'messages': [SystemMessage(role='system', content='You are an assistant that can help with:\\n1. Getting weather information for cities\\n2. Checking currency exchange rates\\n3. Getting random Game of Thrones quotes\\nUse the available tools to help answer questions about these topics.\\nMaintain context across conversations within the same session.'), UserMessage(role='user', content=\"What's the weather like in London?\"), AIMessage(role='assistant', content=None, tool_calls=[ChatCompletionMessageToolCall(id='call_0bsCRAXMl4xenWesHuU6jXoI', function=Function(arguments='{\"city\":\"London\"}', name='get_weather'), type='function')]), ToolMessage(role='tool', content='{\"coord\": {\"lon\": -0.1257, \"lat\": 51.5085}, \"weather\": [{\"id\": 803, \"main\": \"Clouds\", \"description\": \"broken clouds\", \"icon\": \"04d\"}], \"base\": \"stations\", \"main\": {\"temp\": 14.37, \"feels_like\": 14.13, \"temp_min\": 13.12, \"temp_max\": 15.56, \"pressure\": 1011, \"humidity\": 87, \"sea_level\": 1011, \"grnd_level\": 1007}, \"visibility\": 10000, \"wind\": {\"speed\": 5.14, \"deg\": 240}, \"clouds\": {\"all\": 75}, \"dt\": 1748406133, \"sys\": {\"type\": 2, \"id\": 2075535, \"country\": \"GB\", \"sunrise\": 1748404356, \"sunset\": 1748462600}, \"timezone\": 3600, \"id\": 2643743, \"name\": \"London\", \"cod\": 200}', tool_call_id='call_0bsCRAXMl4xenWesHuU6jXoI', name='get_weather')], 'current_tool_calls': None, 'session_id': 'external_tools'})\n",
      "-> Snapshot('7fbc72c9-fbe8-4f3d-a630-8910e717362f') @ [2025-05-28 01:28:08.917678]: llm_processor.State({'user_query': \"What's the weather like in London?\", 'instructions': 'You are an assistant that can help with:\\n1. Getting weather information for cities\\n2. Checking currency exchange rates\\n3. Getting random Game of Thrones quotes\\nUse the available tools to help answer questions about these topics.\\nMaintain context across conversations within the same session.', 'messages': [SystemMessage(role='system', content='You are an assistant that can help with:\\n1. Getting weather information for cities\\n2. Checking currency exchange rates\\n3. Getting random Game of Thrones quotes\\nUse the available tools to help answer questions about these topics.\\nMaintain context across conversations within the same session.'), UserMessage(role='user', content=\"What's the weather like in London?\"), AIMessage(role='assistant', content=None, tool_calls=[ChatCompletionMessageToolCall(id='call_0bsCRAXMl4xenWesHuU6jXoI', function=Function(arguments='{\"city\":\"London\"}', name='get_weather'), type='function')]), ToolMessage(role='tool', content='{\"coord\": {\"lon\": -0.1257, \"lat\": 51.5085}, \"weather\": [{\"id\": 803, \"main\": \"Clouds\", \"description\": \"broken clouds\", \"icon\": \"04d\"}], \"base\": \"stations\", \"main\": {\"temp\": 14.37, \"feels_like\": 14.13, \"temp_min\": 13.12, \"temp_max\": 15.56, \"pressure\": 1011, \"humidity\": 87, \"sea_level\": 1011, \"grnd_level\": 1007}, \"visibility\": 10000, \"wind\": {\"speed\": 5.14, \"deg\": 240}, \"clouds\": {\"all\": 75}, \"dt\": 1748406133, \"sys\": {\"type\": 2, \"id\": 2075535, \"country\": \"GB\", \"sunrise\": 1748404356, \"sunset\": 1748462600}, \"timezone\": 3600, \"id\": 2643743, \"name\": \"London\", \"cod\": 200}', tool_call_id='call_0bsCRAXMl4xenWesHuU6jXoI', name='get_weather'), AIMessage(role='assistant', content=\"The current weather in London is as follows:\\n\\n- **Temperature**: 14.37°C (feels like 14.13°C)\\n- **Condition**: Broken clouds\\n- **Humidity**: 87%\\n- **Wind Speed**: 5.14 m/s\\n- **Visibility**: 10 km\\n- **Cloud Coverage**: 75%\\n\\nOverall, it's a cool and cloudy day in London.\", tool_calls=None)], 'current_tool_calls': None, 'session_id': 'external_tools'})\n",
      "\n",
      "\n",
      "Run('7681fdc3-cb7c-4b42-977f-40d31071d063')\n",
      "-> Snapshot('a3e41629-b62e-48cd-8f3c-11708693fdfc') @ [2025-05-28 01:28:44.968164]: __entry__.State({'user_query': \"What's the exchange rate from USD to EUR?\", 'instructions': 'You are an assistant that can help with:\\n1. Getting weather information for cities\\n2. Checking currency exchange rates\\n3. Getting random Game of Thrones quotes\\nUse the available tools to help answer questions about these topics.\\nMaintain context across conversations within the same session.', 'messages': [SystemMessage(role='system', content='You are an assistant that can help with:\\n1. Getting weather information for cities\\n2. Checking currency exchange rates\\n3. Getting random Game of Thrones quotes\\nUse the available tools to help answer questions about these topics.\\nMaintain context across conversations within the same session.'), UserMessage(role='user', content=\"What's the weather like in London?\"), AIMessage(role='assistant', content=None, tool_calls=[ChatCompletionMessageToolCall(id='call_0bsCRAXMl4xenWesHuU6jXoI', function=Function(arguments='{\"city\":\"London\"}', name='get_weather'), type='function')]), ToolMessage(role='tool', content='{\"coord\": {\"lon\": -0.1257, \"lat\": 51.5085}, \"weather\": [{\"id\": 803, \"main\": \"Clouds\", \"description\": \"broken clouds\", \"icon\": \"04d\"}], \"base\": \"stations\", \"main\": {\"temp\": 14.37, \"feels_like\": 14.13, \"temp_min\": 13.12, \"temp_max\": 15.56, \"pressure\": 1011, \"humidity\": 87, \"sea_level\": 1011, \"grnd_level\": 1007}, \"visibility\": 10000, \"wind\": {\"speed\": 5.14, \"deg\": 240}, \"clouds\": {\"all\": 75}, \"dt\": 1748406133, \"sys\": {\"type\": 2, \"id\": 2075535, \"country\": \"GB\", \"sunrise\": 1748404356, \"sunset\": 1748462600}, \"timezone\": 3600, \"id\": 2643743, \"name\": \"London\", \"cod\": 200}', tool_call_id='call_0bsCRAXMl4xenWesHuU6jXoI', name='get_weather'), AIMessage(role='assistant', content=\"The current weather in London is as follows:\\n\\n- **Temperature**: 14.37°C (feels like 14.13°C)\\n- **Condition**: Broken clouds\\n- **Humidity**: 87%\\n- **Wind Speed**: 5.14 m/s\\n- **Visibility**: 10 km\\n- **Cloud Coverage**: 75%\\n\\nOverall, it's a cool and cloudy day in London.\", tool_calls=None)], 'current_tool_calls': None, 'session_id': 'external_tools'})\n",
      "-> Snapshot('a857e08a-35d2-4f88-b981-110be18f2478') @ [2025-05-28 01:28:44.968240]: message_prep.State({'user_query': \"What's the exchange rate from USD to EUR?\", 'instructions': 'You are an assistant that can help with:\\n1. Getting weather information for cities\\n2. Checking currency exchange rates\\n3. Getting random Game of Thrones quotes\\nUse the available tools to help answer questions about these topics.\\nMaintain context across conversations within the same session.', 'messages': [SystemMessage(role='system', content='You are an assistant that can help with:\\n1. Getting weather information for cities\\n2. Checking currency exchange rates\\n3. Getting random Game of Thrones quotes\\nUse the available tools to help answer questions about these topics.\\nMaintain context across conversations within the same session.'), UserMessage(role='user', content=\"What's the weather like in London?\"), AIMessage(role='assistant', content=None, tool_calls=[ChatCompletionMessageToolCall(id='call_0bsCRAXMl4xenWesHuU6jXoI', function=Function(arguments='{\"city\":\"London\"}', name='get_weather'), type='function')]), ToolMessage(role='tool', content='{\"coord\": {\"lon\": -0.1257, \"lat\": 51.5085}, \"weather\": [{\"id\": 803, \"main\": \"Clouds\", \"description\": \"broken clouds\", \"icon\": \"04d\"}], \"base\": \"stations\", \"main\": {\"temp\": 14.37, \"feels_like\": 14.13, \"temp_min\": 13.12, \"temp_max\": 15.56, \"pressure\": 1011, \"humidity\": 87, \"sea_level\": 1011, \"grnd_level\": 1007}, \"visibility\": 10000, \"wind\": {\"speed\": 5.14, \"deg\": 240}, \"clouds\": {\"all\": 75}, \"dt\": 1748406133, \"sys\": {\"type\": 2, \"id\": 2075535, \"country\": \"GB\", \"sunrise\": 1748404356, \"sunset\": 1748462600}, \"timezone\": 3600, \"id\": 2643743, \"name\": \"London\", \"cod\": 200}', tool_call_id='call_0bsCRAXMl4xenWesHuU6jXoI', name='get_weather'), AIMessage(role='assistant', content=\"The current weather in London is as follows:\\n\\n- **Temperature**: 14.37°C (feels like 14.13°C)\\n- **Condition**: Broken clouds\\n- **Humidity**: 87%\\n- **Wind Speed**: 5.14 m/s\\n- **Visibility**: 10 km\\n- **Cloud Coverage**: 75%\\n\\nOverall, it's a cool and cloudy day in London.\", tool_calls=None), UserMessage(role='user', content=\"What's the exchange rate from USD to EUR?\")], 'current_tool_calls': None, 'session_id': 'external_tools'})\n",
      "-> Snapshot('8db1b31a-b298-4682-bf4b-f46dd50b2e5b') @ [2025-05-28 01:28:46.661409]: llm_processor.State({'user_query': \"What's the exchange rate from USD to EUR?\", 'instructions': 'You are an assistant that can help with:\\n1. Getting weather information for cities\\n2. Checking currency exchange rates\\n3. Getting random Game of Thrones quotes\\nUse the available tools to help answer questions about these topics.\\nMaintain context across conversations within the same session.', 'messages': [SystemMessage(role='system', content='You are an assistant that can help with:\\n1. Getting weather information for cities\\n2. Checking currency exchange rates\\n3. Getting random Game of Thrones quotes\\nUse the available tools to help answer questions about these topics.\\nMaintain context across conversations within the same session.'), UserMessage(role='user', content=\"What's the weather like in London?\"), AIMessage(role='assistant', content=None, tool_calls=[ChatCompletionMessageToolCall(id='call_0bsCRAXMl4xenWesHuU6jXoI', function=Function(arguments='{\"city\":\"London\"}', name='get_weather'), type='function')]), ToolMessage(role='tool', content='{\"coord\": {\"lon\": -0.1257, \"lat\": 51.5085}, \"weather\": [{\"id\": 803, \"main\": \"Clouds\", \"description\": \"broken clouds\", \"icon\": \"04d\"}], \"base\": \"stations\", \"main\": {\"temp\": 14.37, \"feels_like\": 14.13, \"temp_min\": 13.12, \"temp_max\": 15.56, \"pressure\": 1011, \"humidity\": 87, \"sea_level\": 1011, \"grnd_level\": 1007}, \"visibility\": 10000, \"wind\": {\"speed\": 5.14, \"deg\": 240}, \"clouds\": {\"all\": 75}, \"dt\": 1748406133, \"sys\": {\"type\": 2, \"id\": 2075535, \"country\": \"GB\", \"sunrise\": 1748404356, \"sunset\": 1748462600}, \"timezone\": 3600, \"id\": 2643743, \"name\": \"London\", \"cod\": 200}', tool_call_id='call_0bsCRAXMl4xenWesHuU6jXoI', name='get_weather'), AIMessage(role='assistant', content=\"The current weather in London is as follows:\\n\\n- **Temperature**: 14.37°C (feels like 14.13°C)\\n- **Condition**: Broken clouds\\n- **Humidity**: 87%\\n- **Wind Speed**: 5.14 m/s\\n- **Visibility**: 10 km\\n- **Cloud Coverage**: 75%\\n\\nOverall, it's a cool and cloudy day in London.\", tool_calls=None), UserMessage(role='user', content=\"What's the exchange rate from USD to EUR?\"), AIMessage(role='assistant', content=None, tool_calls=[ChatCompletionMessageToolCall(id='call_thj1vwbt98YF8SWoTgUjFXnL', function=Function(arguments='{\"from_currency\":\"USD\"}', name='get_exchange_rate'), type='function')])], 'current_tool_calls': [ChatCompletionMessageToolCall(id='call_thj1vwbt98YF8SWoTgUjFXnL', function=Function(arguments='{\"from_currency\":\"USD\"}', name='get_exchange_rate'), type='function')], 'session_id': 'external_tools'})\n",
      "-> Snapshot('f03f1cd9-4fc1-4b97-96a8-4bdd521ec321') @ [2025-05-28 01:28:47.078354]: tool_executor.State({'user_query': \"What's the exchange rate from USD to EUR?\", 'instructions': 'You are an assistant that can help with:\\n1. Getting weather information for cities\\n2. Checking currency exchange rates\\n3. Getting random Game of Thrones quotes\\nUse the available tools to help answer questions about these topics.\\nMaintain context across conversations within the same session.', 'messages': [SystemMessage(role='system', content='You are an assistant that can help with:\\n1. Getting weather information for cities\\n2. Checking currency exchange rates\\n3. Getting random Game of Thrones quotes\\nUse the available tools to help answer questions about these topics.\\nMaintain context across conversations within the same session.'), UserMessage(role='user', content=\"What's the weather like in London?\"), AIMessage(role='assistant', content=None, tool_calls=[ChatCompletionMessageToolCall(id='call_0bsCRAXMl4xenWesHuU6jXoI', function=Function(arguments='{\"city\":\"London\"}', name='get_weather'), type='function')]), ToolMessage(role='tool', content='{\"coord\": {\"lon\": -0.1257, \"lat\": 51.5085}, \"weather\": [{\"id\": 803, \"main\": \"Clouds\", \"description\": \"broken clouds\", \"icon\": \"04d\"}], \"base\": \"stations\", \"main\": {\"temp\": 14.37, \"feels_like\": 14.13, \"temp_min\": 13.12, \"temp_max\": 15.56, \"pressure\": 1011, \"humidity\": 87, \"sea_level\": 1011, \"grnd_level\": 1007}, \"visibility\": 10000, \"wind\": {\"speed\": 5.14, \"deg\": 240}, \"clouds\": {\"all\": 75}, \"dt\": 1748406133, \"sys\": {\"type\": 2, \"id\": 2075535, \"country\": \"GB\", \"sunrise\": 1748404356, \"sunset\": 1748462600}, \"timezone\": 3600, \"id\": 2643743, \"name\": \"London\", \"cod\": 200}', tool_call_id='call_0bsCRAXMl4xenWesHuU6jXoI', name='get_weather'), AIMessage(role='assistant', content=\"The current weather in London is as follows:\\n\\n- **Temperature**: 14.37°C (feels like 14.13°C)\\n- **Condition**: Broken clouds\\n- **Humidity**: 87%\\n- **Wind Speed**: 5.14 m/s\\n- **Visibility**: 10 km\\n- **Cloud Coverage**: 75%\\n\\nOverall, it's a cool and cloudy day in London.\", tool_calls=None), UserMessage(role='user', content=\"What's the exchange rate from USD to EUR?\"), AIMessage(role='assistant', content=None, tool_calls=[ChatCompletionMessageToolCall(id='call_thj1vwbt98YF8SWoTgUjFXnL', function=Function(arguments='{\"from_currency\":\"USD\"}', name='get_exchange_rate'), type='function')]), ToolMessage(role='tool', content='{\"result\": \"success\", \"documentation\": \"https://www.exchangerate-api.com/docs\", \"terms_of_use\": \"https://www.exchangerate-api.com/terms\", \"time_last_update_unix\": 1748390402, \"time_last_update_utc\": \"Wed, 28 May 2025 00:00:02 +0000\", \"time_next_update_unix\": 1748476802, \"time_next_update_utc\": \"Thu, 29 May 2025 00:00:02 +0000\", \"base_code\": \"USD\", \"conversion_rates\": {\"USD\": 1, \"AED\": 3.6725, \"AFN\": 69.8427, \"ALL\": 86.2504, \"AMD\": 384.262, \"ANG\": 1.79, \"AOA\": 918.7763, \"ARS\": 1148.0, \"AUD\": 1.5514, \"AWG\": 1.79, \"AZN\": 1.6997, \"BAM\": 1.7245, \"BBD\": 2.0, \"BDT\": 122.0289, \"BGN\": 1.7242, \"BHD\": 0.376, \"BIF\": 2973.4576, \"BMD\": 1.0, \"BND\": 1.2882, \"BOB\": 6.9147, \"BRL\": 5.6622, \"BSD\": 1.0, \"BTN\": 85.3369, \"BWP\": 13.4532, \"BYN\": 3.0093, \"BZD\": 2.0, \"CAD\": 1.379, \"CDF\": 2871.1403, \"CHF\": 0.8267, \"CLP\": 940.3014, \"CNY\": 7.1923, \"COP\": 4142.333, \"CRC\": 508.1958, \"CUP\": 24.0, \"CVE\": 97.2218, \"CZK\": 21.9555, \"DJF\": 177.721, \"DKK\": 6.5781, \"DOP\": 58.864, \"DZD\": 131.9452, \"EGP\": 49.8038, \"ERN\": 15.0, \"ETB\": 133.617, \"EUR\": 0.8817, \"FJD\": 2.2525, \"FKP\": 0.7394, \"FOK\": 6.5767, \"GBP\": 0.7394, \"GEL\": 2.7358, \"GGP\": 0.7394, \"GHS\": 10.3711, \"GIP\": 0.7394, \"GMD\": 72.7543, \"GNF\": 8701.0633, \"GTQ\": 7.6656, \"GYD\": 209.4861, \"HKD\": 7.8388, \"HNL\": 26.0188, \"HRK\": 6.6432, \"HTG\": 130.7037, \"HUF\": 356.0188, \"IDR\": 16270.7413, \"ILS\": 3.537, \"IMP\": 0.7394, \"INR\": 85.3663, \"IQD\": 1308.8295, \"IRR\": 41999.2736, \"ISK\": 126.9579, \"JEP\": 0.7394, \"JMD\": 159.1229, \"JOD\": 0.709, \"JPY\": 144.0432, \"KES\": 129.1312, \"KGS\": 87.4773, \"KHR\": 4029.3934, \"KID\": 1.5515, \"KMF\": 433.7729, \"KRW\": 1373.8479, \"KWD\": 0.3066, \"KYD\": 0.8333, \"KZT\": 511.7604, \"LAK\": 21710.3686, \"LBP\": 89500.0, \"LKR\": 299.3445, \"LRD\": 199.8534, \"LSL\": 17.9283, \"LYD\": 5.4638, \"MAD\": 9.2125, \"MDL\": 17.2513, \"MGA\": 4522.758, \"MKD\": 54.1899, \"MMK\": 2097.5274, \"MNT\": 3535.536, \"MOP\": 8.0741, \"MRU\": 39.7751, \"MUR\": 45.3961, \"MVR\": 15.4517, \"MWK\": 1741.9962, \"MXN\": 19.2563, \"MYR\": 4.2377, \"MZN\": 63.8385, \"NAD\": 17.9283, \"NGN\": 1583.2911, \"NIO\": 36.7652, \"NOK\": 10.1473, \"NPR\": 136.5391, \"NZD\": 1.6805, \"OMR\": 0.3845, \"PAB\": 1.0, \"PEN\": 3.6491, \"PGK\": 4.1291, \"PHP\": 55.5512, \"PKR\": 282.7547, \"PLN\": 3.7454, \"PYG\": 8012.8743, \"QAR\": 3.64, \"RON\": 4.4573, \"RSD\": 103.3444, \"RUB\": 80.1034, \"RWF\": 1437.3578, \"SAR\": 3.75, \"SBD\": 8.5638, \"SCR\": 14.2785, \"SDG\": 449.3233, \"SEK\": 9.6119, \"SGD\": 1.2882, \"SHP\": 0.7394, \"SLE\": 22.8207, \"SLL\": 22820.7227, \"SOS\": 571.385, \"SRD\": 36.6515, \"SSP\": 4621.1349, \"STN\": 21.6019, \"SYP\": 12869.3087, \"SZL\": 17.9283, \"THB\": 32.7481, \"TJS\": 10.3889, \"TMT\": 3.5001, \"TND\": 2.9839, \"TOP\": 2.3739, \"TRY\": 39.0648, \"TTD\": 6.7892, \"TVD\": 1.5515, \"TWD\": 29.8638, \"TZS\": 2683.1897, \"UAH\": 41.6662, \"UGX\": 3647.4496, \"UYU\": 41.5674, \"UZS\": 12887.0681, \"VES\": 95.8052, \"VND\": 25923.0092, \"VUV\": 119.9665, \"WST\": 2.759, \"XAF\": 578.3639, \"XCD\": 2.7, \"XCG\": 1.79, \"XDR\": 0.7331, \"XOF\": 578.3639, \"XPF\": 105.2162, \"YER\": 243.7292, \"ZAR\": 17.9328, \"ZMW\": 27.3391, \"ZWL\": 26.9014}}', tool_call_id='call_thj1vwbt98YF8SWoTgUjFXnL', name='get_exchange_rate')], 'current_tool_calls': None, 'session_id': 'external_tools'})\n",
      "-> Snapshot('8d6650eb-a8c1-4eac-b5d7-6db4f13ef046') @ [2025-05-28 01:28:51.106203]: llm_processor.State({'user_query': \"What's the exchange rate from USD to EUR?\", 'instructions': 'You are an assistant that can help with:\\n1. Getting weather information for cities\\n2. Checking currency exchange rates\\n3. Getting random Game of Thrones quotes\\nUse the available tools to help answer questions about these topics.\\nMaintain context across conversations within the same session.', 'messages': [SystemMessage(role='system', content='You are an assistant that can help with:\\n1. Getting weather information for cities\\n2. Checking currency exchange rates\\n3. Getting random Game of Thrones quotes\\nUse the available tools to help answer questions about these topics.\\nMaintain context across conversations within the same session.'), UserMessage(role='user', content=\"What's the weather like in London?\"), AIMessage(role='assistant', content=None, tool_calls=[ChatCompletionMessageToolCall(id='call_0bsCRAXMl4xenWesHuU6jXoI', function=Function(arguments='{\"city\":\"London\"}', name='get_weather'), type='function')]), ToolMessage(role='tool', content='{\"coord\": {\"lon\": -0.1257, \"lat\": 51.5085}, \"weather\": [{\"id\": 803, \"main\": \"Clouds\", \"description\": \"broken clouds\", \"icon\": \"04d\"}], \"base\": \"stations\", \"main\": {\"temp\": 14.37, \"feels_like\": 14.13, \"temp_min\": 13.12, \"temp_max\": 15.56, \"pressure\": 1011, \"humidity\": 87, \"sea_level\": 1011, \"grnd_level\": 1007}, \"visibility\": 10000, \"wind\": {\"speed\": 5.14, \"deg\": 240}, \"clouds\": {\"all\": 75}, \"dt\": 1748406133, \"sys\": {\"type\": 2, \"id\": 2075535, \"country\": \"GB\", \"sunrise\": 1748404356, \"sunset\": 1748462600}, \"timezone\": 3600, \"id\": 2643743, \"name\": \"London\", \"cod\": 200}', tool_call_id='call_0bsCRAXMl4xenWesHuU6jXoI', name='get_weather'), AIMessage(role='assistant', content=\"The current weather in London is as follows:\\n\\n- **Temperature**: 14.37°C (feels like 14.13°C)\\n- **Condition**: Broken clouds\\n- **Humidity**: 87%\\n- **Wind Speed**: 5.14 m/s\\n- **Visibility**: 10 km\\n- **Cloud Coverage**: 75%\\n\\nOverall, it's a cool and cloudy day in London.\", tool_calls=None), UserMessage(role='user', content=\"What's the exchange rate from USD to EUR?\"), AIMessage(role='assistant', content=None, tool_calls=[ChatCompletionMessageToolCall(id='call_thj1vwbt98YF8SWoTgUjFXnL', function=Function(arguments='{\"from_currency\":\"USD\"}', name='get_exchange_rate'), type='function')]), ToolMessage(role='tool', content='{\"result\": \"success\", \"documentation\": \"https://www.exchangerate-api.com/docs\", \"terms_of_use\": \"https://www.exchangerate-api.com/terms\", \"time_last_update_unix\": 1748390402, \"time_last_update_utc\": \"Wed, 28 May 2025 00:00:02 +0000\", \"time_next_update_unix\": 1748476802, \"time_next_update_utc\": \"Thu, 29 May 2025 00:00:02 +0000\", \"base_code\": \"USD\", \"conversion_rates\": {\"USD\": 1, \"AED\": 3.6725, \"AFN\": 69.8427, \"ALL\": 86.2504, \"AMD\": 384.262, \"ANG\": 1.79, \"AOA\": 918.7763, \"ARS\": 1148.0, \"AUD\": 1.5514, \"AWG\": 1.79, \"AZN\": 1.6997, \"BAM\": 1.7245, \"BBD\": 2.0, \"BDT\": 122.0289, \"BGN\": 1.7242, \"BHD\": 0.376, \"BIF\": 2973.4576, \"BMD\": 1.0, \"BND\": 1.2882, \"BOB\": 6.9147, \"BRL\": 5.6622, \"BSD\": 1.0, \"BTN\": 85.3369, \"BWP\": 13.4532, \"BYN\": 3.0093, \"BZD\": 2.0, \"CAD\": 1.379, \"CDF\": 2871.1403, \"CHF\": 0.8267, \"CLP\": 940.3014, \"CNY\": 7.1923, \"COP\": 4142.333, \"CRC\": 508.1958, \"CUP\": 24.0, \"CVE\": 97.2218, \"CZK\": 21.9555, \"DJF\": 177.721, \"DKK\": 6.5781, \"DOP\": 58.864, \"DZD\": 131.9452, \"EGP\": 49.8038, \"ERN\": 15.0, \"ETB\": 133.617, \"EUR\": 0.8817, \"FJD\": 2.2525, \"FKP\": 0.7394, \"FOK\": 6.5767, \"GBP\": 0.7394, \"GEL\": 2.7358, \"GGP\": 0.7394, \"GHS\": 10.3711, \"GIP\": 0.7394, \"GMD\": 72.7543, \"GNF\": 8701.0633, \"GTQ\": 7.6656, \"GYD\": 209.4861, \"HKD\": 7.8388, \"HNL\": 26.0188, \"HRK\": 6.6432, \"HTG\": 130.7037, \"HUF\": 356.0188, \"IDR\": 16270.7413, \"ILS\": 3.537, \"IMP\": 0.7394, \"INR\": 85.3663, \"IQD\": 1308.8295, \"IRR\": 41999.2736, \"ISK\": 126.9579, \"JEP\": 0.7394, \"JMD\": 159.1229, \"JOD\": 0.709, \"JPY\": 144.0432, \"KES\": 129.1312, \"KGS\": 87.4773, \"KHR\": 4029.3934, \"KID\": 1.5515, \"KMF\": 433.7729, \"KRW\": 1373.8479, \"KWD\": 0.3066, \"KYD\": 0.8333, \"KZT\": 511.7604, \"LAK\": 21710.3686, \"LBP\": 89500.0, \"LKR\": 299.3445, \"LRD\": 199.8534, \"LSL\": 17.9283, \"LYD\": 5.4638, \"MAD\": 9.2125, \"MDL\": 17.2513, \"MGA\": 4522.758, \"MKD\": 54.1899, \"MMK\": 2097.5274, \"MNT\": 3535.536, \"MOP\": 8.0741, \"MRU\": 39.7751, \"MUR\": 45.3961, \"MVR\": 15.4517, \"MWK\": 1741.9962, \"MXN\": 19.2563, \"MYR\": 4.2377, \"MZN\": 63.8385, \"NAD\": 17.9283, \"NGN\": 1583.2911, \"NIO\": 36.7652, \"NOK\": 10.1473, \"NPR\": 136.5391, \"NZD\": 1.6805, \"OMR\": 0.3845, \"PAB\": 1.0, \"PEN\": 3.6491, \"PGK\": 4.1291, \"PHP\": 55.5512, \"PKR\": 282.7547, \"PLN\": 3.7454, \"PYG\": 8012.8743, \"QAR\": 3.64, \"RON\": 4.4573, \"RSD\": 103.3444, \"RUB\": 80.1034, \"RWF\": 1437.3578, \"SAR\": 3.75, \"SBD\": 8.5638, \"SCR\": 14.2785, \"SDG\": 449.3233, \"SEK\": 9.6119, \"SGD\": 1.2882, \"SHP\": 0.7394, \"SLE\": 22.8207, \"SLL\": 22820.7227, \"SOS\": 571.385, \"SRD\": 36.6515, \"SSP\": 4621.1349, \"STN\": 21.6019, \"SYP\": 12869.3087, \"SZL\": 17.9283, \"THB\": 32.7481, \"TJS\": 10.3889, \"TMT\": 3.5001, \"TND\": 2.9839, \"TOP\": 2.3739, \"TRY\": 39.0648, \"TTD\": 6.7892, \"TVD\": 1.5515, \"TWD\": 29.8638, \"TZS\": 2683.1897, \"UAH\": 41.6662, \"UGX\": 3647.4496, \"UYU\": 41.5674, \"UZS\": 12887.0681, \"VES\": 95.8052, \"VND\": 25923.0092, \"VUV\": 119.9665, \"WST\": 2.759, \"XAF\": 578.3639, \"XCD\": 2.7, \"XCG\": 1.79, \"XDR\": 0.7331, \"XOF\": 578.3639, \"XPF\": 105.2162, \"YER\": 243.7292, \"ZAR\": 17.9328, \"ZMW\": 27.3391, \"ZWL\": 26.9014}}', tool_call_id='call_thj1vwbt98YF8SWoTgUjFXnL', name='get_exchange_rate'), AIMessage(role='assistant', content='The current exchange rate from USD to EUR is approximately **0.8817 EUR** for **1 USD**.', tool_calls=None)], 'current_tool_calls': None, 'session_id': 'external_tools'})\n",
      "\n",
      "\n",
      "Run('d8a03ba4-be81-4d42-b546-773db1a2f0ec')\n",
      "-> Snapshot('b496abaa-3893-4d4b-8848-e95df51a94ba') @ [2025-05-28 01:29:42.746837]: __entry__.State({'user_query': 'Give me a Game of Thrones quote!', 'instructions': 'You are an assistant that can help with:\\n1. Getting weather information for cities\\n2. Checking currency exchange rates\\n3. Getting random Game of Thrones quotes\\nUse the available tools to help answer questions about these topics.\\nMaintain context across conversations within the same session.', 'messages': [SystemMessage(role='system', content='You are an assistant that can help with:\\n1. Getting weather information for cities\\n2. Checking currency exchange rates\\n3. Getting random Game of Thrones quotes\\nUse the available tools to help answer questions about these topics.\\nMaintain context across conversations within the same session.'), UserMessage(role='user', content=\"What's the weather like in London?\"), AIMessage(role='assistant', content=None, tool_calls=[ChatCompletionMessageToolCall(id='call_0bsCRAXMl4xenWesHuU6jXoI', function=Function(arguments='{\"city\":\"London\"}', name='get_weather'), type='function')]), ToolMessage(role='tool', content='{\"coord\": {\"lon\": -0.1257, \"lat\": 51.5085}, \"weather\": [{\"id\": 803, \"main\": \"Clouds\", \"description\": \"broken clouds\", \"icon\": \"04d\"}], \"base\": \"stations\", \"main\": {\"temp\": 14.37, \"feels_like\": 14.13, \"temp_min\": 13.12, \"temp_max\": 15.56, \"pressure\": 1011, \"humidity\": 87, \"sea_level\": 1011, \"grnd_level\": 1007}, \"visibility\": 10000, \"wind\": {\"speed\": 5.14, \"deg\": 240}, \"clouds\": {\"all\": 75}, \"dt\": 1748406133, \"sys\": {\"type\": 2, \"id\": 2075535, \"country\": \"GB\", \"sunrise\": 1748404356, \"sunset\": 1748462600}, \"timezone\": 3600, \"id\": 2643743, \"name\": \"London\", \"cod\": 200}', tool_call_id='call_0bsCRAXMl4xenWesHuU6jXoI', name='get_weather'), AIMessage(role='assistant', content=\"The current weather in London is as follows:\\n\\n- **Temperature**: 14.37°C (feels like 14.13°C)\\n- **Condition**: Broken clouds\\n- **Humidity**: 87%\\n- **Wind Speed**: 5.14 m/s\\n- **Visibility**: 10 km\\n- **Cloud Coverage**: 75%\\n\\nOverall, it's a cool and cloudy day in London.\", tool_calls=None), UserMessage(role='user', content=\"What's the exchange rate from USD to EUR?\"), AIMessage(role='assistant', content=None, tool_calls=[ChatCompletionMessageToolCall(id='call_thj1vwbt98YF8SWoTgUjFXnL', function=Function(arguments='{\"from_currency\":\"USD\"}', name='get_exchange_rate'), type='function')]), ToolMessage(role='tool', content='{\"result\": \"success\", \"documentation\": \"https://www.exchangerate-api.com/docs\", \"terms_of_use\": \"https://www.exchangerate-api.com/terms\", \"time_last_update_unix\": 1748390402, \"time_last_update_utc\": \"Wed, 28 May 2025 00:00:02 +0000\", \"time_next_update_unix\": 1748476802, \"time_next_update_utc\": \"Thu, 29 May 2025 00:00:02 +0000\", \"base_code\": \"USD\", \"conversion_rates\": {\"USD\": 1, \"AED\": 3.6725, \"AFN\": 69.8427, \"ALL\": 86.2504, \"AMD\": 384.262, \"ANG\": 1.79, \"AOA\": 918.7763, \"ARS\": 1148.0, \"AUD\": 1.5514, \"AWG\": 1.79, \"AZN\": 1.6997, \"BAM\": 1.7245, \"BBD\": 2.0, \"BDT\": 122.0289, \"BGN\": 1.7242, \"BHD\": 0.376, \"BIF\": 2973.4576, \"BMD\": 1.0, \"BND\": 1.2882, \"BOB\": 6.9147, \"BRL\": 5.6622, \"BSD\": 1.0, \"BTN\": 85.3369, \"BWP\": 13.4532, \"BYN\": 3.0093, \"BZD\": 2.0, \"CAD\": 1.379, \"CDF\": 2871.1403, \"CHF\": 0.8267, \"CLP\": 940.3014, \"CNY\": 7.1923, \"COP\": 4142.333, \"CRC\": 508.1958, \"CUP\": 24.0, \"CVE\": 97.2218, \"CZK\": 21.9555, \"DJF\": 177.721, \"DKK\": 6.5781, \"DOP\": 58.864, \"DZD\": 131.9452, \"EGP\": 49.8038, \"ERN\": 15.0, \"ETB\": 133.617, \"EUR\": 0.8817, \"FJD\": 2.2525, \"FKP\": 0.7394, \"FOK\": 6.5767, \"GBP\": 0.7394, \"GEL\": 2.7358, \"GGP\": 0.7394, \"GHS\": 10.3711, \"GIP\": 0.7394, \"GMD\": 72.7543, \"GNF\": 8701.0633, \"GTQ\": 7.6656, \"GYD\": 209.4861, \"HKD\": 7.8388, \"HNL\": 26.0188, \"HRK\": 6.6432, \"HTG\": 130.7037, \"HUF\": 356.0188, \"IDR\": 16270.7413, \"ILS\": 3.537, \"IMP\": 0.7394, \"INR\": 85.3663, \"IQD\": 1308.8295, \"IRR\": 41999.2736, \"ISK\": 126.9579, \"JEP\": 0.7394, \"JMD\": 159.1229, \"JOD\": 0.709, \"JPY\": 144.0432, \"KES\": 129.1312, \"KGS\": 87.4773, \"KHR\": 4029.3934, \"KID\": 1.5515, \"KMF\": 433.7729, \"KRW\": 1373.8479, \"KWD\": 0.3066, \"KYD\": 0.8333, \"KZT\": 511.7604, \"LAK\": 21710.3686, \"LBP\": 89500.0, \"LKR\": 299.3445, \"LRD\": 199.8534, \"LSL\": 17.9283, \"LYD\": 5.4638, \"MAD\": 9.2125, \"MDL\": 17.2513, \"MGA\": 4522.758, \"MKD\": 54.1899, \"MMK\": 2097.5274, \"MNT\": 3535.536, \"MOP\": 8.0741, \"MRU\": 39.7751, \"MUR\": 45.3961, \"MVR\": 15.4517, \"MWK\": 1741.9962, \"MXN\": 19.2563, \"MYR\": 4.2377, \"MZN\": 63.8385, \"NAD\": 17.9283, \"NGN\": 1583.2911, \"NIO\": 36.7652, \"NOK\": 10.1473, \"NPR\": 136.5391, \"NZD\": 1.6805, \"OMR\": 0.3845, \"PAB\": 1.0, \"PEN\": 3.6491, \"PGK\": 4.1291, \"PHP\": 55.5512, \"PKR\": 282.7547, \"PLN\": 3.7454, \"PYG\": 8012.8743, \"QAR\": 3.64, \"RON\": 4.4573, \"RSD\": 103.3444, \"RUB\": 80.1034, \"RWF\": 1437.3578, \"SAR\": 3.75, \"SBD\": 8.5638, \"SCR\": 14.2785, \"SDG\": 449.3233, \"SEK\": 9.6119, \"SGD\": 1.2882, \"SHP\": 0.7394, \"SLE\": 22.8207, \"SLL\": 22820.7227, \"SOS\": 571.385, \"SRD\": 36.6515, \"SSP\": 4621.1349, \"STN\": 21.6019, \"SYP\": 12869.3087, \"SZL\": 17.9283, \"THB\": 32.7481, \"TJS\": 10.3889, \"TMT\": 3.5001, \"TND\": 2.9839, \"TOP\": 2.3739, \"TRY\": 39.0648, \"TTD\": 6.7892, \"TVD\": 1.5515, \"TWD\": 29.8638, \"TZS\": 2683.1897, \"UAH\": 41.6662, \"UGX\": 3647.4496, \"UYU\": 41.5674, \"UZS\": 12887.0681, \"VES\": 95.8052, \"VND\": 25923.0092, \"VUV\": 119.9665, \"WST\": 2.759, \"XAF\": 578.3639, \"XCD\": 2.7, \"XCG\": 1.79, \"XDR\": 0.7331, \"XOF\": 578.3639, \"XPF\": 105.2162, \"YER\": 243.7292, \"ZAR\": 17.9328, \"ZMW\": 27.3391, \"ZWL\": 26.9014}}', tool_call_id='call_thj1vwbt98YF8SWoTgUjFXnL', name='get_exchange_rate'), AIMessage(role='assistant', content='The current exchange rate from USD to EUR is approximately **0.8817 EUR** for **1 USD**.', tool_calls=None)], 'current_tool_calls': None, 'session_id': 'external_tools'})\n",
      "-> Snapshot('a337fb97-6b91-4667-a84b-0e4e6edf14d9') @ [2025-05-28 01:29:42.746930]: message_prep.State({'user_query': 'Give me a Game of Thrones quote!', 'instructions': 'You are an assistant that can help with:\\n1. Getting weather information for cities\\n2. Checking currency exchange rates\\n3. Getting random Game of Thrones quotes\\nUse the available tools to help answer questions about these topics.\\nMaintain context across conversations within the same session.', 'messages': [SystemMessage(role='system', content='You are an assistant that can help with:\\n1. Getting weather information for cities\\n2. Checking currency exchange rates\\n3. Getting random Game of Thrones quotes\\nUse the available tools to help answer questions about these topics.\\nMaintain context across conversations within the same session.'), UserMessage(role='user', content=\"What's the weather like in London?\"), AIMessage(role='assistant', content=None, tool_calls=[ChatCompletionMessageToolCall(id='call_0bsCRAXMl4xenWesHuU6jXoI', function=Function(arguments='{\"city\":\"London\"}', name='get_weather'), type='function')]), ToolMessage(role='tool', content='{\"coord\": {\"lon\": -0.1257, \"lat\": 51.5085}, \"weather\": [{\"id\": 803, \"main\": \"Clouds\", \"description\": \"broken clouds\", \"icon\": \"04d\"}], \"base\": \"stations\", \"main\": {\"temp\": 14.37, \"feels_like\": 14.13, \"temp_min\": 13.12, \"temp_max\": 15.56, \"pressure\": 1011, \"humidity\": 87, \"sea_level\": 1011, \"grnd_level\": 1007}, \"visibility\": 10000, \"wind\": {\"speed\": 5.14, \"deg\": 240}, \"clouds\": {\"all\": 75}, \"dt\": 1748406133, \"sys\": {\"type\": 2, \"id\": 2075535, \"country\": \"GB\", \"sunrise\": 1748404356, \"sunset\": 1748462600}, \"timezone\": 3600, \"id\": 2643743, \"name\": \"London\", \"cod\": 200}', tool_call_id='call_0bsCRAXMl4xenWesHuU6jXoI', name='get_weather'), AIMessage(role='assistant', content=\"The current weather in London is as follows:\\n\\n- **Temperature**: 14.37°C (feels like 14.13°C)\\n- **Condition**: Broken clouds\\n- **Humidity**: 87%\\n- **Wind Speed**: 5.14 m/s\\n- **Visibility**: 10 km\\n- **Cloud Coverage**: 75%\\n\\nOverall, it's a cool and cloudy day in London.\", tool_calls=None), UserMessage(role='user', content=\"What's the exchange rate from USD to EUR?\"), AIMessage(role='assistant', content=None, tool_calls=[ChatCompletionMessageToolCall(id='call_thj1vwbt98YF8SWoTgUjFXnL', function=Function(arguments='{\"from_currency\":\"USD\"}', name='get_exchange_rate'), type='function')]), ToolMessage(role='tool', content='{\"result\": \"success\", \"documentation\": \"https://www.exchangerate-api.com/docs\", \"terms_of_use\": \"https://www.exchangerate-api.com/terms\", \"time_last_update_unix\": 1748390402, \"time_last_update_utc\": \"Wed, 28 May 2025 00:00:02 +0000\", \"time_next_update_unix\": 1748476802, \"time_next_update_utc\": \"Thu, 29 May 2025 00:00:02 +0000\", \"base_code\": \"USD\", \"conversion_rates\": {\"USD\": 1, \"AED\": 3.6725, \"AFN\": 69.8427, \"ALL\": 86.2504, \"AMD\": 384.262, \"ANG\": 1.79, \"AOA\": 918.7763, \"ARS\": 1148.0, \"AUD\": 1.5514, \"AWG\": 1.79, \"AZN\": 1.6997, \"BAM\": 1.7245, \"BBD\": 2.0, \"BDT\": 122.0289, \"BGN\": 1.7242, \"BHD\": 0.376, \"BIF\": 2973.4576, \"BMD\": 1.0, \"BND\": 1.2882, \"BOB\": 6.9147, \"BRL\": 5.6622, \"BSD\": 1.0, \"BTN\": 85.3369, \"BWP\": 13.4532, \"BYN\": 3.0093, \"BZD\": 2.0, \"CAD\": 1.379, \"CDF\": 2871.1403, \"CHF\": 0.8267, \"CLP\": 940.3014, \"CNY\": 7.1923, \"COP\": 4142.333, \"CRC\": 508.1958, \"CUP\": 24.0, \"CVE\": 97.2218, \"CZK\": 21.9555, \"DJF\": 177.721, \"DKK\": 6.5781, \"DOP\": 58.864, \"DZD\": 131.9452, \"EGP\": 49.8038, \"ERN\": 15.0, \"ETB\": 133.617, \"EUR\": 0.8817, \"FJD\": 2.2525, \"FKP\": 0.7394, \"FOK\": 6.5767, \"GBP\": 0.7394, \"GEL\": 2.7358, \"GGP\": 0.7394, \"GHS\": 10.3711, \"GIP\": 0.7394, \"GMD\": 72.7543, \"GNF\": 8701.0633, \"GTQ\": 7.6656, \"GYD\": 209.4861, \"HKD\": 7.8388, \"HNL\": 26.0188, \"HRK\": 6.6432, \"HTG\": 130.7037, \"HUF\": 356.0188, \"IDR\": 16270.7413, \"ILS\": 3.537, \"IMP\": 0.7394, \"INR\": 85.3663, \"IQD\": 1308.8295, \"IRR\": 41999.2736, \"ISK\": 126.9579, \"JEP\": 0.7394, \"JMD\": 159.1229, \"JOD\": 0.709, \"JPY\": 144.0432, \"KES\": 129.1312, \"KGS\": 87.4773, \"KHR\": 4029.3934, \"KID\": 1.5515, \"KMF\": 433.7729, \"KRW\": 1373.8479, \"KWD\": 0.3066, \"KYD\": 0.8333, \"KZT\": 511.7604, \"LAK\": 21710.3686, \"LBP\": 89500.0, \"LKR\": 299.3445, \"LRD\": 199.8534, \"LSL\": 17.9283, \"LYD\": 5.4638, \"MAD\": 9.2125, \"MDL\": 17.2513, \"MGA\": 4522.758, \"MKD\": 54.1899, \"MMK\": 2097.5274, \"MNT\": 3535.536, \"MOP\": 8.0741, \"MRU\": 39.7751, \"MUR\": 45.3961, \"MVR\": 15.4517, \"MWK\": 1741.9962, \"MXN\": 19.2563, \"MYR\": 4.2377, \"MZN\": 63.8385, \"NAD\": 17.9283, \"NGN\": 1583.2911, \"NIO\": 36.7652, \"NOK\": 10.1473, \"NPR\": 136.5391, \"NZD\": 1.6805, \"OMR\": 0.3845, \"PAB\": 1.0, \"PEN\": 3.6491, \"PGK\": 4.1291, \"PHP\": 55.5512, \"PKR\": 282.7547, \"PLN\": 3.7454, \"PYG\": 8012.8743, \"QAR\": 3.64, \"RON\": 4.4573, \"RSD\": 103.3444, \"RUB\": 80.1034, \"RWF\": 1437.3578, \"SAR\": 3.75, \"SBD\": 8.5638, \"SCR\": 14.2785, \"SDG\": 449.3233, \"SEK\": 9.6119, \"SGD\": 1.2882, \"SHP\": 0.7394, \"SLE\": 22.8207, \"SLL\": 22820.7227, \"SOS\": 571.385, \"SRD\": 36.6515, \"SSP\": 4621.1349, \"STN\": 21.6019, \"SYP\": 12869.3087, \"SZL\": 17.9283, \"THB\": 32.7481, \"TJS\": 10.3889, \"TMT\": 3.5001, \"TND\": 2.9839, \"TOP\": 2.3739, \"TRY\": 39.0648, \"TTD\": 6.7892, \"TVD\": 1.5515, \"TWD\": 29.8638, \"TZS\": 2683.1897, \"UAH\": 41.6662, \"UGX\": 3647.4496, \"UYU\": 41.5674, \"UZS\": 12887.0681, \"VES\": 95.8052, \"VND\": 25923.0092, \"VUV\": 119.9665, \"WST\": 2.759, \"XAF\": 578.3639, \"XCD\": 2.7, \"XCG\": 1.79, \"XDR\": 0.7331, \"XOF\": 578.3639, \"XPF\": 105.2162, \"YER\": 243.7292, \"ZAR\": 17.9328, \"ZMW\": 27.3391, \"ZWL\": 26.9014}}', tool_call_id='call_thj1vwbt98YF8SWoTgUjFXnL', name='get_exchange_rate'), AIMessage(role='assistant', content='The current exchange rate from USD to EUR is approximately **0.8817 EUR** for **1 USD**.', tool_calls=None), UserMessage(role='user', content='Give me a Game of Thrones quote!')], 'current_tool_calls': None, 'session_id': 'external_tools'})\n",
      "-> Snapshot('20f62f61-7b72-4faf-aa39-f50600ad67a2') @ [2025-05-28 01:29:44.797486]: llm_processor.State({'user_query': 'Give me a Game of Thrones quote!', 'instructions': 'You are an assistant that can help with:\\n1. Getting weather information for cities\\n2. Checking currency exchange rates\\n3. Getting random Game of Thrones quotes\\nUse the available tools to help answer questions about these topics.\\nMaintain context across conversations within the same session.', 'messages': [SystemMessage(role='system', content='You are an assistant that can help with:\\n1. Getting weather information for cities\\n2. Checking currency exchange rates\\n3. Getting random Game of Thrones quotes\\nUse the available tools to help answer questions about these topics.\\nMaintain context across conversations within the same session.'), UserMessage(role='user', content=\"What's the weather like in London?\"), AIMessage(role='assistant', content=None, tool_calls=[ChatCompletionMessageToolCall(id='call_0bsCRAXMl4xenWesHuU6jXoI', function=Function(arguments='{\"city\":\"London\"}', name='get_weather'), type='function')]), ToolMessage(role='tool', content='{\"coord\": {\"lon\": -0.1257, \"lat\": 51.5085}, \"weather\": [{\"id\": 803, \"main\": \"Clouds\", \"description\": \"broken clouds\", \"icon\": \"04d\"}], \"base\": \"stations\", \"main\": {\"temp\": 14.37, \"feels_like\": 14.13, \"temp_min\": 13.12, \"temp_max\": 15.56, \"pressure\": 1011, \"humidity\": 87, \"sea_level\": 1011, \"grnd_level\": 1007}, \"visibility\": 10000, \"wind\": {\"speed\": 5.14, \"deg\": 240}, \"clouds\": {\"all\": 75}, \"dt\": 1748406133, \"sys\": {\"type\": 2, \"id\": 2075535, \"country\": \"GB\", \"sunrise\": 1748404356, \"sunset\": 1748462600}, \"timezone\": 3600, \"id\": 2643743, \"name\": \"London\", \"cod\": 200}', tool_call_id='call_0bsCRAXMl4xenWesHuU6jXoI', name='get_weather'), AIMessage(role='assistant', content=\"The current weather in London is as follows:\\n\\n- **Temperature**: 14.37°C (feels like 14.13°C)\\n- **Condition**: Broken clouds\\n- **Humidity**: 87%\\n- **Wind Speed**: 5.14 m/s\\n- **Visibility**: 10 km\\n- **Cloud Coverage**: 75%\\n\\nOverall, it's a cool and cloudy day in London.\", tool_calls=None), UserMessage(role='user', content=\"What's the exchange rate from USD to EUR?\"), AIMessage(role='assistant', content=None, tool_calls=[ChatCompletionMessageToolCall(id='call_thj1vwbt98YF8SWoTgUjFXnL', function=Function(arguments='{\"from_currency\":\"USD\"}', name='get_exchange_rate'), type='function')]), ToolMessage(role='tool', content='{\"result\": \"success\", \"documentation\": \"https://www.exchangerate-api.com/docs\", \"terms_of_use\": \"https://www.exchangerate-api.com/terms\", \"time_last_update_unix\": 1748390402, \"time_last_update_utc\": \"Wed, 28 May 2025 00:00:02 +0000\", \"time_next_update_unix\": 1748476802, \"time_next_update_utc\": \"Thu, 29 May 2025 00:00:02 +0000\", \"base_code\": \"USD\", \"conversion_rates\": {\"USD\": 1, \"AED\": 3.6725, \"AFN\": 69.8427, \"ALL\": 86.2504, \"AMD\": 384.262, \"ANG\": 1.79, \"AOA\": 918.7763, \"ARS\": 1148.0, \"AUD\": 1.5514, \"AWG\": 1.79, \"AZN\": 1.6997, \"BAM\": 1.7245, \"BBD\": 2.0, \"BDT\": 122.0289, \"BGN\": 1.7242, \"BHD\": 0.376, \"BIF\": 2973.4576, \"BMD\": 1.0, \"BND\": 1.2882, \"BOB\": 6.9147, \"BRL\": 5.6622, \"BSD\": 1.0, \"BTN\": 85.3369, \"BWP\": 13.4532, \"BYN\": 3.0093, \"BZD\": 2.0, \"CAD\": 1.379, \"CDF\": 2871.1403, \"CHF\": 0.8267, \"CLP\": 940.3014, \"CNY\": 7.1923, \"COP\": 4142.333, \"CRC\": 508.1958, \"CUP\": 24.0, \"CVE\": 97.2218, \"CZK\": 21.9555, \"DJF\": 177.721, \"DKK\": 6.5781, \"DOP\": 58.864, \"DZD\": 131.9452, \"EGP\": 49.8038, \"ERN\": 15.0, \"ETB\": 133.617, \"EUR\": 0.8817, \"FJD\": 2.2525, \"FKP\": 0.7394, \"FOK\": 6.5767, \"GBP\": 0.7394, \"GEL\": 2.7358, \"GGP\": 0.7394, \"GHS\": 10.3711, \"GIP\": 0.7394, \"GMD\": 72.7543, \"GNF\": 8701.0633, \"GTQ\": 7.6656, \"GYD\": 209.4861, \"HKD\": 7.8388, \"HNL\": 26.0188, \"HRK\": 6.6432, \"HTG\": 130.7037, \"HUF\": 356.0188, \"IDR\": 16270.7413, \"ILS\": 3.537, \"IMP\": 0.7394, \"INR\": 85.3663, \"IQD\": 1308.8295, \"IRR\": 41999.2736, \"ISK\": 126.9579, \"JEP\": 0.7394, \"JMD\": 159.1229, \"JOD\": 0.709, \"JPY\": 144.0432, \"KES\": 129.1312, \"KGS\": 87.4773, \"KHR\": 4029.3934, \"KID\": 1.5515, \"KMF\": 433.7729, \"KRW\": 1373.8479, \"KWD\": 0.3066, \"KYD\": 0.8333, \"KZT\": 511.7604, \"LAK\": 21710.3686, \"LBP\": 89500.0, \"LKR\": 299.3445, \"LRD\": 199.8534, \"LSL\": 17.9283, \"LYD\": 5.4638, \"MAD\": 9.2125, \"MDL\": 17.2513, \"MGA\": 4522.758, \"MKD\": 54.1899, \"MMK\": 2097.5274, \"MNT\": 3535.536, \"MOP\": 8.0741, \"MRU\": 39.7751, \"MUR\": 45.3961, \"MVR\": 15.4517, \"MWK\": 1741.9962, \"MXN\": 19.2563, \"MYR\": 4.2377, \"MZN\": 63.8385, \"NAD\": 17.9283, \"NGN\": 1583.2911, \"NIO\": 36.7652, \"NOK\": 10.1473, \"NPR\": 136.5391, \"NZD\": 1.6805, \"OMR\": 0.3845, \"PAB\": 1.0, \"PEN\": 3.6491, \"PGK\": 4.1291, \"PHP\": 55.5512, \"PKR\": 282.7547, \"PLN\": 3.7454, \"PYG\": 8012.8743, \"QAR\": 3.64, \"RON\": 4.4573, \"RSD\": 103.3444, \"RUB\": 80.1034, \"RWF\": 1437.3578, \"SAR\": 3.75, \"SBD\": 8.5638, \"SCR\": 14.2785, \"SDG\": 449.3233, \"SEK\": 9.6119, \"SGD\": 1.2882, \"SHP\": 0.7394, \"SLE\": 22.8207, \"SLL\": 22820.7227, \"SOS\": 571.385, \"SRD\": 36.6515, \"SSP\": 4621.1349, \"STN\": 21.6019, \"SYP\": 12869.3087, \"SZL\": 17.9283, \"THB\": 32.7481, \"TJS\": 10.3889, \"TMT\": 3.5001, \"TND\": 2.9839, \"TOP\": 2.3739, \"TRY\": 39.0648, \"TTD\": 6.7892, \"TVD\": 1.5515, \"TWD\": 29.8638, \"TZS\": 2683.1897, \"UAH\": 41.6662, \"UGX\": 3647.4496, \"UYU\": 41.5674, \"UZS\": 12887.0681, \"VES\": 95.8052, \"VND\": 25923.0092, \"VUV\": 119.9665, \"WST\": 2.759, \"XAF\": 578.3639, \"XCD\": 2.7, \"XCG\": 1.79, \"XDR\": 0.7331, \"XOF\": 578.3639, \"XPF\": 105.2162, \"YER\": 243.7292, \"ZAR\": 17.9328, \"ZMW\": 27.3391, \"ZWL\": 26.9014}}', tool_call_id='call_thj1vwbt98YF8SWoTgUjFXnL', name='get_exchange_rate'), AIMessage(role='assistant', content='The current exchange rate from USD to EUR is approximately **0.8817 EUR** for **1 USD**.', tool_calls=None), UserMessage(role='user', content='Give me a Game of Thrones quote!'), AIMessage(role='assistant', content=None, tool_calls=[ChatCompletionMessageToolCall(id='call_Hi2MK08BomYWlSnLIOAgtBwr', function=Function(arguments='{}', name='get_got_quote'), type='function')])], 'current_tool_calls': [ChatCompletionMessageToolCall(id='call_Hi2MK08BomYWlSnLIOAgtBwr', function=Function(arguments='{}', name='get_got_quote'), type='function')], 'session_id': 'external_tools'})\n",
      "-> Snapshot('77f0da6f-f933-4585-be87-e197a88d5862') @ [2025-05-28 01:29:45.478904]: tool_executor.State({'user_query': 'Give me a Game of Thrones quote!', 'instructions': 'You are an assistant that can help with:\\n1. Getting weather information for cities\\n2. Checking currency exchange rates\\n3. Getting random Game of Thrones quotes\\nUse the available tools to help answer questions about these topics.\\nMaintain context across conversations within the same session.', 'messages': [SystemMessage(role='system', content='You are an assistant that can help with:\\n1. Getting weather information for cities\\n2. Checking currency exchange rates\\n3. Getting random Game of Thrones quotes\\nUse the available tools to help answer questions about these topics.\\nMaintain context across conversations within the same session.'), UserMessage(role='user', content=\"What's the weather like in London?\"), AIMessage(role='assistant', content=None, tool_calls=[ChatCompletionMessageToolCall(id='call_0bsCRAXMl4xenWesHuU6jXoI', function=Function(arguments='{\"city\":\"London\"}', name='get_weather'), type='function')]), ToolMessage(role='tool', content='{\"coord\": {\"lon\": -0.1257, \"lat\": 51.5085}, \"weather\": [{\"id\": 803, \"main\": \"Clouds\", \"description\": \"broken clouds\", \"icon\": \"04d\"}], \"base\": \"stations\", \"main\": {\"temp\": 14.37, \"feels_like\": 14.13, \"temp_min\": 13.12, \"temp_max\": 15.56, \"pressure\": 1011, \"humidity\": 87, \"sea_level\": 1011, \"grnd_level\": 1007}, \"visibility\": 10000, \"wind\": {\"speed\": 5.14, \"deg\": 240}, \"clouds\": {\"all\": 75}, \"dt\": 1748406133, \"sys\": {\"type\": 2, \"id\": 2075535, \"country\": \"GB\", \"sunrise\": 1748404356, \"sunset\": 1748462600}, \"timezone\": 3600, \"id\": 2643743, \"name\": \"London\", \"cod\": 200}', tool_call_id='call_0bsCRAXMl4xenWesHuU6jXoI', name='get_weather'), AIMessage(role='assistant', content=\"The current weather in London is as follows:\\n\\n- **Temperature**: 14.37°C (feels like 14.13°C)\\n- **Condition**: Broken clouds\\n- **Humidity**: 87%\\n- **Wind Speed**: 5.14 m/s\\n- **Visibility**: 10 km\\n- **Cloud Coverage**: 75%\\n\\nOverall, it's a cool and cloudy day in London.\", tool_calls=None), UserMessage(role='user', content=\"What's the exchange rate from USD to EUR?\"), AIMessage(role='assistant', content=None, tool_calls=[ChatCompletionMessageToolCall(id='call_thj1vwbt98YF8SWoTgUjFXnL', function=Function(arguments='{\"from_currency\":\"USD\"}', name='get_exchange_rate'), type='function')]), ToolMessage(role='tool', content='{\"result\": \"success\", \"documentation\": \"https://www.exchangerate-api.com/docs\", \"terms_of_use\": \"https://www.exchangerate-api.com/terms\", \"time_last_update_unix\": 1748390402, \"time_last_update_utc\": \"Wed, 28 May 2025 00:00:02 +0000\", \"time_next_update_unix\": 1748476802, \"time_next_update_utc\": \"Thu, 29 May 2025 00:00:02 +0000\", \"base_code\": \"USD\", \"conversion_rates\": {\"USD\": 1, \"AED\": 3.6725, \"AFN\": 69.8427, \"ALL\": 86.2504, \"AMD\": 384.262, \"ANG\": 1.79, \"AOA\": 918.7763, \"ARS\": 1148.0, \"AUD\": 1.5514, \"AWG\": 1.79, \"AZN\": 1.6997, \"BAM\": 1.7245, \"BBD\": 2.0, \"BDT\": 122.0289, \"BGN\": 1.7242, \"BHD\": 0.376, \"BIF\": 2973.4576, \"BMD\": 1.0, \"BND\": 1.2882, \"BOB\": 6.9147, \"BRL\": 5.6622, \"BSD\": 1.0, \"BTN\": 85.3369, \"BWP\": 13.4532, \"BYN\": 3.0093, \"BZD\": 2.0, \"CAD\": 1.379, \"CDF\": 2871.1403, \"CHF\": 0.8267, \"CLP\": 940.3014, \"CNY\": 7.1923, \"COP\": 4142.333, \"CRC\": 508.1958, \"CUP\": 24.0, \"CVE\": 97.2218, \"CZK\": 21.9555, \"DJF\": 177.721, \"DKK\": 6.5781, \"DOP\": 58.864, \"DZD\": 131.9452, \"EGP\": 49.8038, \"ERN\": 15.0, \"ETB\": 133.617, \"EUR\": 0.8817, \"FJD\": 2.2525, \"FKP\": 0.7394, \"FOK\": 6.5767, \"GBP\": 0.7394, \"GEL\": 2.7358, \"GGP\": 0.7394, \"GHS\": 10.3711, \"GIP\": 0.7394, \"GMD\": 72.7543, \"GNF\": 8701.0633, \"GTQ\": 7.6656, \"GYD\": 209.4861, \"HKD\": 7.8388, \"HNL\": 26.0188, \"HRK\": 6.6432, \"HTG\": 130.7037, \"HUF\": 356.0188, \"IDR\": 16270.7413, \"ILS\": 3.537, \"IMP\": 0.7394, \"INR\": 85.3663, \"IQD\": 1308.8295, \"IRR\": 41999.2736, \"ISK\": 126.9579, \"JEP\": 0.7394, \"JMD\": 159.1229, \"JOD\": 0.709, \"JPY\": 144.0432, \"KES\": 129.1312, \"KGS\": 87.4773, \"KHR\": 4029.3934, \"KID\": 1.5515, \"KMF\": 433.7729, \"KRW\": 1373.8479, \"KWD\": 0.3066, \"KYD\": 0.8333, \"KZT\": 511.7604, \"LAK\": 21710.3686, \"LBP\": 89500.0, \"LKR\": 299.3445, \"LRD\": 199.8534, \"LSL\": 17.9283, \"LYD\": 5.4638, \"MAD\": 9.2125, \"MDL\": 17.2513, \"MGA\": 4522.758, \"MKD\": 54.1899, \"MMK\": 2097.5274, \"MNT\": 3535.536, \"MOP\": 8.0741, \"MRU\": 39.7751, \"MUR\": 45.3961, \"MVR\": 15.4517, \"MWK\": 1741.9962, \"MXN\": 19.2563, \"MYR\": 4.2377, \"MZN\": 63.8385, \"NAD\": 17.9283, \"NGN\": 1583.2911, \"NIO\": 36.7652, \"NOK\": 10.1473, \"NPR\": 136.5391, \"NZD\": 1.6805, \"OMR\": 0.3845, \"PAB\": 1.0, \"PEN\": 3.6491, \"PGK\": 4.1291, \"PHP\": 55.5512, \"PKR\": 282.7547, \"PLN\": 3.7454, \"PYG\": 8012.8743, \"QAR\": 3.64, \"RON\": 4.4573, \"RSD\": 103.3444, \"RUB\": 80.1034, \"RWF\": 1437.3578, \"SAR\": 3.75, \"SBD\": 8.5638, \"SCR\": 14.2785, \"SDG\": 449.3233, \"SEK\": 9.6119, \"SGD\": 1.2882, \"SHP\": 0.7394, \"SLE\": 22.8207, \"SLL\": 22820.7227, \"SOS\": 571.385, \"SRD\": 36.6515, \"SSP\": 4621.1349, \"STN\": 21.6019, \"SYP\": 12869.3087, \"SZL\": 17.9283, \"THB\": 32.7481, \"TJS\": 10.3889, \"TMT\": 3.5001, \"TND\": 2.9839, \"TOP\": 2.3739, \"TRY\": 39.0648, \"TTD\": 6.7892, \"TVD\": 1.5515, \"TWD\": 29.8638, \"TZS\": 2683.1897, \"UAH\": 41.6662, \"UGX\": 3647.4496, \"UYU\": 41.5674, \"UZS\": 12887.0681, \"VES\": 95.8052, \"VND\": 25923.0092, \"VUV\": 119.9665, \"WST\": 2.759, \"XAF\": 578.3639, \"XCD\": 2.7, \"XCG\": 1.79, \"XDR\": 0.7331, \"XOF\": 578.3639, \"XPF\": 105.2162, \"YER\": 243.7292, \"ZAR\": 17.9328, \"ZMW\": 27.3391, \"ZWL\": 26.9014}}', tool_call_id='call_thj1vwbt98YF8SWoTgUjFXnL', name='get_exchange_rate'), AIMessage(role='assistant', content='The current exchange rate from USD to EUR is approximately **0.8817 EUR** for **1 USD**.', tool_calls=None), UserMessage(role='user', content='Give me a Game of Thrones quote!'), AIMessage(role='assistant', content=None, tool_calls=[ChatCompletionMessageToolCall(id='call_Hi2MK08BomYWlSnLIOAgtBwr', function=Function(arguments='{}', name='get_got_quote'), type='function')]), ToolMessage(role='tool', content='{\"sentence\": \"He was no dragon. Fire cannot kill a dragon.\", \"character\": {\"name\": \"Daenerys Targaryen\", \"slug\": \"daenerys\", \"house\": {\"name\": \"House Targaryen of King\\'s Landing\", \"slug\": \"targaryen\"}}}', tool_call_id='call_Hi2MK08BomYWlSnLIOAgtBwr', name='get_got_quote')], 'current_tool_calls': None, 'session_id': 'external_tools'})\n",
      "-> Snapshot('871328a8-dcc8-4321-862d-050eb17c0ee6') @ [2025-05-28 01:29:47.474964]: llm_processor.State({'user_query': 'Give me a Game of Thrones quote!', 'instructions': 'You are an assistant that can help with:\\n1. Getting weather information for cities\\n2. Checking currency exchange rates\\n3. Getting random Game of Thrones quotes\\nUse the available tools to help answer questions about these topics.\\nMaintain context across conversations within the same session.', 'messages': [SystemMessage(role='system', content='You are an assistant that can help with:\\n1. Getting weather information for cities\\n2. Checking currency exchange rates\\n3. Getting random Game of Thrones quotes\\nUse the available tools to help answer questions about these topics.\\nMaintain context across conversations within the same session.'), UserMessage(role='user', content=\"What's the weather like in London?\"), AIMessage(role='assistant', content=None, tool_calls=[ChatCompletionMessageToolCall(id='call_0bsCRAXMl4xenWesHuU6jXoI', function=Function(arguments='{\"city\":\"London\"}', name='get_weather'), type='function')]), ToolMessage(role='tool', content='{\"coord\": {\"lon\": -0.1257, \"lat\": 51.5085}, \"weather\": [{\"id\": 803, \"main\": \"Clouds\", \"description\": \"broken clouds\", \"icon\": \"04d\"}], \"base\": \"stations\", \"main\": {\"temp\": 14.37, \"feels_like\": 14.13, \"temp_min\": 13.12, \"temp_max\": 15.56, \"pressure\": 1011, \"humidity\": 87, \"sea_level\": 1011, \"grnd_level\": 1007}, \"visibility\": 10000, \"wind\": {\"speed\": 5.14, \"deg\": 240}, \"clouds\": {\"all\": 75}, \"dt\": 1748406133, \"sys\": {\"type\": 2, \"id\": 2075535, \"country\": \"GB\", \"sunrise\": 1748404356, \"sunset\": 1748462600}, \"timezone\": 3600, \"id\": 2643743, \"name\": \"London\", \"cod\": 200}', tool_call_id='call_0bsCRAXMl4xenWesHuU6jXoI', name='get_weather'), AIMessage(role='assistant', content=\"The current weather in London is as follows:\\n\\n- **Temperature**: 14.37°C (feels like 14.13°C)\\n- **Condition**: Broken clouds\\n- **Humidity**: 87%\\n- **Wind Speed**: 5.14 m/s\\n- **Visibility**: 10 km\\n- **Cloud Coverage**: 75%\\n\\nOverall, it's a cool and cloudy day in London.\", tool_calls=None), UserMessage(role='user', content=\"What's the exchange rate from USD to EUR?\"), AIMessage(role='assistant', content=None, tool_calls=[ChatCompletionMessageToolCall(id='call_thj1vwbt98YF8SWoTgUjFXnL', function=Function(arguments='{\"from_currency\":\"USD\"}', name='get_exchange_rate'), type='function')]), ToolMessage(role='tool', content='{\"result\": \"success\", \"documentation\": \"https://www.exchangerate-api.com/docs\", \"terms_of_use\": \"https://www.exchangerate-api.com/terms\", \"time_last_update_unix\": 1748390402, \"time_last_update_utc\": \"Wed, 28 May 2025 00:00:02 +0000\", \"time_next_update_unix\": 1748476802, \"time_next_update_utc\": \"Thu, 29 May 2025 00:00:02 +0000\", \"base_code\": \"USD\", \"conversion_rates\": {\"USD\": 1, \"AED\": 3.6725, \"AFN\": 69.8427, \"ALL\": 86.2504, \"AMD\": 384.262, \"ANG\": 1.79, \"AOA\": 918.7763, \"ARS\": 1148.0, \"AUD\": 1.5514, \"AWG\": 1.79, \"AZN\": 1.6997, \"BAM\": 1.7245, \"BBD\": 2.0, \"BDT\": 122.0289, \"BGN\": 1.7242, \"BHD\": 0.376, \"BIF\": 2973.4576, \"BMD\": 1.0, \"BND\": 1.2882, \"BOB\": 6.9147, \"BRL\": 5.6622, \"BSD\": 1.0, \"BTN\": 85.3369, \"BWP\": 13.4532, \"BYN\": 3.0093, \"BZD\": 2.0, \"CAD\": 1.379, \"CDF\": 2871.1403, \"CHF\": 0.8267, \"CLP\": 940.3014, \"CNY\": 7.1923, \"COP\": 4142.333, \"CRC\": 508.1958, \"CUP\": 24.0, \"CVE\": 97.2218, \"CZK\": 21.9555, \"DJF\": 177.721, \"DKK\": 6.5781, \"DOP\": 58.864, \"DZD\": 131.9452, \"EGP\": 49.8038, \"ERN\": 15.0, \"ETB\": 133.617, \"EUR\": 0.8817, \"FJD\": 2.2525, \"FKP\": 0.7394, \"FOK\": 6.5767, \"GBP\": 0.7394, \"GEL\": 2.7358, \"GGP\": 0.7394, \"GHS\": 10.3711, \"GIP\": 0.7394, \"GMD\": 72.7543, \"GNF\": 8701.0633, \"GTQ\": 7.6656, \"GYD\": 209.4861, \"HKD\": 7.8388, \"HNL\": 26.0188, \"HRK\": 6.6432, \"HTG\": 130.7037, \"HUF\": 356.0188, \"IDR\": 16270.7413, \"ILS\": 3.537, \"IMP\": 0.7394, \"INR\": 85.3663, \"IQD\": 1308.8295, \"IRR\": 41999.2736, \"ISK\": 126.9579, \"JEP\": 0.7394, \"JMD\": 159.1229, \"JOD\": 0.709, \"JPY\": 144.0432, \"KES\": 129.1312, \"KGS\": 87.4773, \"KHR\": 4029.3934, \"KID\": 1.5515, \"KMF\": 433.7729, \"KRW\": 1373.8479, \"KWD\": 0.3066, \"KYD\": 0.8333, \"KZT\": 511.7604, \"LAK\": 21710.3686, \"LBP\": 89500.0, \"LKR\": 299.3445, \"LRD\": 199.8534, \"LSL\": 17.9283, \"LYD\": 5.4638, \"MAD\": 9.2125, \"MDL\": 17.2513, \"MGA\": 4522.758, \"MKD\": 54.1899, \"MMK\": 2097.5274, \"MNT\": 3535.536, \"MOP\": 8.0741, \"MRU\": 39.7751, \"MUR\": 45.3961, \"MVR\": 15.4517, \"MWK\": 1741.9962, \"MXN\": 19.2563, \"MYR\": 4.2377, \"MZN\": 63.8385, \"NAD\": 17.9283, \"NGN\": 1583.2911, \"NIO\": 36.7652, \"NOK\": 10.1473, \"NPR\": 136.5391, \"NZD\": 1.6805, \"OMR\": 0.3845, \"PAB\": 1.0, \"PEN\": 3.6491, \"PGK\": 4.1291, \"PHP\": 55.5512, \"PKR\": 282.7547, \"PLN\": 3.7454, \"PYG\": 8012.8743, \"QAR\": 3.64, \"RON\": 4.4573, \"RSD\": 103.3444, \"RUB\": 80.1034, \"RWF\": 1437.3578, \"SAR\": 3.75, \"SBD\": 8.5638, \"SCR\": 14.2785, \"SDG\": 449.3233, \"SEK\": 9.6119, \"SGD\": 1.2882, \"SHP\": 0.7394, \"SLE\": 22.8207, \"SLL\": 22820.7227, \"SOS\": 571.385, \"SRD\": 36.6515, \"SSP\": 4621.1349, \"STN\": 21.6019, \"SYP\": 12869.3087, \"SZL\": 17.9283, \"THB\": 32.7481, \"TJS\": 10.3889, \"TMT\": 3.5001, \"TND\": 2.9839, \"TOP\": 2.3739, \"TRY\": 39.0648, \"TTD\": 6.7892, \"TVD\": 1.5515, \"TWD\": 29.8638, \"TZS\": 2683.1897, \"UAH\": 41.6662, \"UGX\": 3647.4496, \"UYU\": 41.5674, \"UZS\": 12887.0681, \"VES\": 95.8052, \"VND\": 25923.0092, \"VUV\": 119.9665, \"WST\": 2.759, \"XAF\": 578.3639, \"XCD\": 2.7, \"XCG\": 1.79, \"XDR\": 0.7331, \"XOF\": 578.3639, \"XPF\": 105.2162, \"YER\": 243.7292, \"ZAR\": 17.9328, \"ZMW\": 27.3391, \"ZWL\": 26.9014}}', tool_call_id='call_thj1vwbt98YF8SWoTgUjFXnL', name='get_exchange_rate'), AIMessage(role='assistant', content='The current exchange rate from USD to EUR is approximately **0.8817 EUR** for **1 USD**.', tool_calls=None), UserMessage(role='user', content='Give me a Game of Thrones quote!'), AIMessage(role='assistant', content=None, tool_calls=[ChatCompletionMessageToolCall(id='call_Hi2MK08BomYWlSnLIOAgtBwr', function=Function(arguments='{}', name='get_got_quote'), type='function')]), ToolMessage(role='tool', content='{\"sentence\": \"He was no dragon. Fire cannot kill a dragon.\", \"character\": {\"name\": \"Daenerys Targaryen\", \"slug\": \"daenerys\", \"house\": {\"name\": \"House Targaryen of King\\'s Landing\", \"slug\": \"targaryen\"}}}', tool_call_id='call_Hi2MK08BomYWlSnLIOAgtBwr', name='get_got_quote'), AIMessage(role='assistant', content='Here\\'s a quote from Daenerys Targaryen: \\n\\n\"He was no dragon. Fire cannot kill a dragon.\" \\n\\n— House Targaryen of King\\'s Landing', tool_calls=None)], 'current_tool_calls': None, 'session_id': 'external_tools'})\n",
      "\n",
      "\n"
     ]
    }
   ],
   "source": [
    "runs = agent.get_session_runs(session_id)\n",
    "for run_object in runs:\n",
    "    print(run_object)\n",
    "    for snp in run_object.snapshots:\n",
    "        print(f\"-> {snp}\")\n",
    "    print(\"\\n\")"
   ]
  },
  {
   "cell_type": "code",
   "execution_count": null,
   "id": "59054976",
   "metadata": {},
   "outputs": [],
   "source": []
  }
 ],
 "metadata": {
  "kernelspec": {
   "display_name": ".venv",
   "language": "python",
   "name": "python3"
  },
  "language_info": {
   "codemirror_mode": {
    "name": "ipython",
    "version": 3
   },
   "file_extension": ".py",
   "mimetype": "text/x-python",
   "name": "python",
   "nbconvert_exporter": "python",
   "pygments_lexer": "ipython3",
   "version": "3.11.10"
  }
 },
 "nbformat": 4,
 "nbformat_minor": 5
}
